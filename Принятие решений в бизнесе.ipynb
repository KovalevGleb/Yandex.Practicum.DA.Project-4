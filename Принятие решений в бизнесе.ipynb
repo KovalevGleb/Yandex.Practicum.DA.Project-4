{
 "cells": [
  {
   "cell_type": "markdown",
   "metadata": {},
   "source": [
    "# Проект: принятие решений в бизнесе"
   ]
  },
  {
   "cell_type": "markdown",
   "metadata": {},
   "source": [
    "**Описание проекта:**\n",
    "\n",
    "Вы — аналитик крупного интернет-магазина. Вместе с отделом маркетинга вы подготовили список гипотез для увеличения выручки.\n",
    "Приоритизируйте гипотезы, запустите A/B-тест и проанализируйте результаты.\n",
    "\n",
    "**Ход исследования:**\n",
    "\n",
    "1. С помощью фреймворков `ICE` и `RICE` произвести приоретизацию гипотез. Объяснить разницу этих фреймворков,\n",
    "2. Проанализировать A/B - тест:\n",
    "    - Построим график кумулятивной выручки по группам,\n",
    "    - Построим график кумулятивного среднего чека по группам,\n",
    "    - Построим график относительного изменения кумулятивного среднего чека группы B к группе A,\n",
    "    - Построим график кумулятивного среднего количества заказов на посетителя по группам,\n",
    "    - Построим график относительного изменения кумулятивного среднего количества заказов на посетителя группы B к группе A,\n",
    "    - Построим точечный график количества заказов по пользователям,\n",
    "    - Посчитаем 95-й и 99-й перцентили количества заказов на пользователя и выберем границу для определения аномальных пользователей,\n",
    "    - Построим точечный график стоимостей заказов,\n",
    "    - Посчитаем 95-й и 99-й перцентили стоимости заказов и Выберем границу для определения аномальных заказов,\n",
    "    - Посчитаем статистическую значимость различий в среднем количестве заказов на посетителя между группами по «сырым» данным,\n",
    "    - Посчитаем статистическую значимость различий в среднем чеке заказа между группами по «сырым» данным,\n",
    "    - Посчитаем статистическую значимость различий в среднем количестве заказов на посетителя между группами по «очищенным» данным,\n",
    "    - Посчитаем статистическую значимость различий в среднем чеке заказа между группами по «очищенным» данным,\n",
    "    - Примем решение по результатам теста."
   ]
  },
  {
   "cell_type": "markdown",
   "metadata": {},
   "source": [
    "## Приоритизация гипотез"
   ]
  },
  {
   "cell_type": "markdown",
   "metadata": {},
   "source": [
    "В файле `/datasets/hypothesis.csv` 9 гипотез по увеличению выручки интернет-магазина с указанными параметрами `Reach`, `Impact`, `Confidence`, `Effort`.\n",
    "\n",
    "Импортируем необходимые библиотеки и загрузим данный датасет:"
   ]
  },
  {
   "cell_type": "code",
   "execution_count": 5,
   "metadata": {},
   "outputs": [],
   "source": [
    "import pandas as pd\n",
    "import matplotlib.pyplot as plt\n",
    "import math as mth\n",
    "from scipy import stats\n",
    "import numpy as np\n",
    "import datetime as dt\n",
    "from pandas.plotting import register_matplotlib_converters\n",
    "import warnings"
   ]
  },
  {
   "cell_type": "code",
   "execution_count": 6,
   "metadata": {},
   "outputs": [],
   "source": [
    "try:\n",
    "    hypothesis = pd.read_csv('/datasets/hypothesis.csv')\n",
    "except:\n",
    "    hypothesis = pd.read_csv('https://code.s3.yandex.net/datasets/hypothesis.csv')"
   ]
  },
  {
   "cell_type": "markdown",
   "metadata": {},
   "source": [
    "Выведем датафрейм:"
   ]
  },
  {
   "cell_type": "code",
   "execution_count": 8,
   "metadata": {},
   "outputs": [
    {
     "data": {
      "text/html": [
       "<div>\n",
       "<style scoped>\n",
       "    .dataframe tbody tr th:only-of-type {\n",
       "        vertical-align: middle;\n",
       "    }\n",
       "\n",
       "    .dataframe tbody tr th {\n",
       "        vertical-align: top;\n",
       "    }\n",
       "\n",
       "    .dataframe thead th {\n",
       "        text-align: right;\n",
       "    }\n",
       "</style>\n",
       "<table border=\"1\" class=\"dataframe\">\n",
       "  <thead>\n",
       "    <tr style=\"text-align: right;\">\n",
       "      <th></th>\n",
       "      <th>Hypothesis</th>\n",
       "      <th>Reach</th>\n",
       "      <th>Impact</th>\n",
       "      <th>Confidence</th>\n",
       "      <th>Efforts</th>\n",
       "    </tr>\n",
       "  </thead>\n",
       "  <tbody>\n",
       "    <tr>\n",
       "      <th>0</th>\n",
       "      <td>Добавить два новых канала привлечения трафика, что позволит привлекать на 30% больше пользователей</td>\n",
       "      <td>3</td>\n",
       "      <td>10</td>\n",
       "      <td>8</td>\n",
       "      <td>6</td>\n",
       "    </tr>\n",
       "    <tr>\n",
       "      <th>1</th>\n",
       "      <td>Запустить собственную службу доставки, что сократит срок доставки заказов</td>\n",
       "      <td>2</td>\n",
       "      <td>5</td>\n",
       "      <td>4</td>\n",
       "      <td>10</td>\n",
       "    </tr>\n",
       "    <tr>\n",
       "      <th>2</th>\n",
       "      <td>Добавить блоки рекомендаций товаров на сайт интернет магазина, чтобы повысить конверсию и средний чек заказа</td>\n",
       "      <td>8</td>\n",
       "      <td>3</td>\n",
       "      <td>7</td>\n",
       "      <td>3</td>\n",
       "    </tr>\n",
       "    <tr>\n",
       "      <th>3</th>\n",
       "      <td>Изменить структура категорий, что увеличит конверсию, т.к. пользователи быстрее найдут нужный товар</td>\n",
       "      <td>8</td>\n",
       "      <td>3</td>\n",
       "      <td>3</td>\n",
       "      <td>8</td>\n",
       "    </tr>\n",
       "    <tr>\n",
       "      <th>4</th>\n",
       "      <td>Изменить цвет фона главной страницы, чтобы увеличить вовлеченность пользователей</td>\n",
       "      <td>3</td>\n",
       "      <td>1</td>\n",
       "      <td>1</td>\n",
       "      <td>1</td>\n",
       "    </tr>\n",
       "    <tr>\n",
       "      <th>5</th>\n",
       "      <td>Добавить страницу отзывов клиентов о магазине, что позволит увеличить количество заказов</td>\n",
       "      <td>3</td>\n",
       "      <td>2</td>\n",
       "      <td>2</td>\n",
       "      <td>3</td>\n",
       "    </tr>\n",
       "    <tr>\n",
       "      <th>6</th>\n",
       "      <td>Показать на главной странице баннеры с актуальными акциями и распродажами, чтобы увеличить конверсию</td>\n",
       "      <td>5</td>\n",
       "      <td>3</td>\n",
       "      <td>8</td>\n",
       "      <td>3</td>\n",
       "    </tr>\n",
       "    <tr>\n",
       "      <th>7</th>\n",
       "      <td>Добавить форму подписки на все основные страницы, чтобы собрать базу клиентов для email-рассылок</td>\n",
       "      <td>10</td>\n",
       "      <td>7</td>\n",
       "      <td>8</td>\n",
       "      <td>5</td>\n",
       "    </tr>\n",
       "    <tr>\n",
       "      <th>8</th>\n",
       "      <td>Запустить акцию, дающую скидку на товар в день рождения</td>\n",
       "      <td>1</td>\n",
       "      <td>9</td>\n",
       "      <td>9</td>\n",
       "      <td>5</td>\n",
       "    </tr>\n",
       "  </tbody>\n",
       "</table>\n",
       "</div>"
      ],
      "text/plain": [
       "                                                                                                     Hypothesis  \\\n",
       "0            Добавить два новых канала привлечения трафика, что позволит привлекать на 30% больше пользователей   \n",
       "1                                     Запустить собственную службу доставки, что сократит срок доставки заказов   \n",
       "2  Добавить блоки рекомендаций товаров на сайт интернет магазина, чтобы повысить конверсию и средний чек заказа   \n",
       "3           Изменить структура категорий, что увеличит конверсию, т.к. пользователи быстрее найдут нужный товар   \n",
       "4                              Изменить цвет фона главной страницы, чтобы увеличить вовлеченность пользователей   \n",
       "5                      Добавить страницу отзывов клиентов о магазине, что позволит увеличить количество заказов   \n",
       "6          Показать на главной странице баннеры с актуальными акциями и распродажами, чтобы увеличить конверсию   \n",
       "7              Добавить форму подписки на все основные страницы, чтобы собрать базу клиентов для email-рассылок   \n",
       "8                                                       Запустить акцию, дающую скидку на товар в день рождения   \n",
       "\n",
       "   Reach  Impact  Confidence  Efforts  \n",
       "0      3      10           8        6  \n",
       "1      2       5           4       10  \n",
       "2      8       3           7        3  \n",
       "3      8       3           3        8  \n",
       "4      3       1           1        1  \n",
       "5      3       2           2        3  \n",
       "6      5       3           8        3  \n",
       "7     10       7           8        5  \n",
       "8      1       9           9        5  "
      ]
     },
     "execution_count": 8,
     "metadata": {},
     "output_type": "execute_result"
    }
   ],
   "source": [
    "pd.set_option('display.max_colwidth', None)\n",
    "hypothesis"
   ]
  },
  {
   "cell_type": "markdown",
   "metadata": {},
   "source": [
    "Пропусков и дубликатов нет, предобработка не требуется."
   ]
  },
  {
   "cell_type": "markdown",
   "metadata": {},
   "source": [
    "### Применим фреймворк `ICE` для приоритизации гипотез. Отсортируем их по убыванию приоритета."
   ]
  },
  {
   "cell_type": "code",
   "execution_count": 11,
   "metadata": {},
   "outputs": [
    {
     "data": {
      "text/html": [
       "<div>\n",
       "<style scoped>\n",
       "    .dataframe tbody tr th:only-of-type {\n",
       "        vertical-align: middle;\n",
       "    }\n",
       "\n",
       "    .dataframe tbody tr th {\n",
       "        vertical-align: top;\n",
       "    }\n",
       "\n",
       "    .dataframe thead th {\n",
       "        text-align: right;\n",
       "    }\n",
       "</style>\n",
       "<table border=\"1\" class=\"dataframe\">\n",
       "  <thead>\n",
       "    <tr style=\"text-align: right;\">\n",
       "      <th></th>\n",
       "      <th>Hypothesis</th>\n",
       "      <th>ICE</th>\n",
       "    </tr>\n",
       "  </thead>\n",
       "  <tbody>\n",
       "    <tr>\n",
       "      <th>8</th>\n",
       "      <td>Запустить акцию, дающую скидку на товар в день рождения</td>\n",
       "      <td>16.20</td>\n",
       "    </tr>\n",
       "    <tr>\n",
       "      <th>0</th>\n",
       "      <td>Добавить два новых канала привлечения трафика, что позволит привлекать на 30% больше пользователей</td>\n",
       "      <td>13.33</td>\n",
       "    </tr>\n",
       "    <tr>\n",
       "      <th>7</th>\n",
       "      <td>Добавить форму подписки на все основные страницы, чтобы собрать базу клиентов для email-рассылок</td>\n",
       "      <td>11.20</td>\n",
       "    </tr>\n",
       "    <tr>\n",
       "      <th>6</th>\n",
       "      <td>Показать на главной странице баннеры с актуальными акциями и распродажами, чтобы увеличить конверсию</td>\n",
       "      <td>8.00</td>\n",
       "    </tr>\n",
       "    <tr>\n",
       "      <th>2</th>\n",
       "      <td>Добавить блоки рекомендаций товаров на сайт интернет магазина, чтобы повысить конверсию и средний чек заказа</td>\n",
       "      <td>7.00</td>\n",
       "    </tr>\n",
       "    <tr>\n",
       "      <th>1</th>\n",
       "      <td>Запустить собственную службу доставки, что сократит срок доставки заказов</td>\n",
       "      <td>2.00</td>\n",
       "    </tr>\n",
       "    <tr>\n",
       "      <th>5</th>\n",
       "      <td>Добавить страницу отзывов клиентов о магазине, что позволит увеличить количество заказов</td>\n",
       "      <td>1.33</td>\n",
       "    </tr>\n",
       "    <tr>\n",
       "      <th>3</th>\n",
       "      <td>Изменить структура категорий, что увеличит конверсию, т.к. пользователи быстрее найдут нужный товар</td>\n",
       "      <td>1.12</td>\n",
       "    </tr>\n",
       "    <tr>\n",
       "      <th>4</th>\n",
       "      <td>Изменить цвет фона главной страницы, чтобы увеличить вовлеченность пользователей</td>\n",
       "      <td>1.00</td>\n",
       "    </tr>\n",
       "  </tbody>\n",
       "</table>\n",
       "</div>"
      ],
      "text/plain": [
       "                                                                                                     Hypothesis  \\\n",
       "8                                                       Запустить акцию, дающую скидку на товар в день рождения   \n",
       "0            Добавить два новых канала привлечения трафика, что позволит привлекать на 30% больше пользователей   \n",
       "7              Добавить форму подписки на все основные страницы, чтобы собрать базу клиентов для email-рассылок   \n",
       "6          Показать на главной странице баннеры с актуальными акциями и распродажами, чтобы увеличить конверсию   \n",
       "2  Добавить блоки рекомендаций товаров на сайт интернет магазина, чтобы повысить конверсию и средний чек заказа   \n",
       "1                                     Запустить собственную службу доставки, что сократит срок доставки заказов   \n",
       "5                      Добавить страницу отзывов клиентов о магазине, что позволит увеличить количество заказов   \n",
       "3           Изменить структура категорий, что увеличит конверсию, т.к. пользователи быстрее найдут нужный товар   \n",
       "4                              Изменить цвет фона главной страницы, чтобы увеличить вовлеченность пользователей   \n",
       "\n",
       "     ICE  \n",
       "8  16.20  \n",
       "0  13.33  \n",
       "7  11.20  \n",
       "6   8.00  \n",
       "2   7.00  \n",
       "1   2.00  \n",
       "5   1.33  \n",
       "3   1.12  \n",
       "4   1.00  "
      ]
     },
     "metadata": {},
     "output_type": "display_data"
    }
   ],
   "source": [
    "hypothesis['ICE'] = round(hypothesis['Impact'] * hypothesis['Confidence'] / hypothesis['Efforts'], 2)\n",
    "display(hypothesis[['Hypothesis', 'ICE']].sort_values('ICE', ascending=False))"
   ]
  },
  {
   "cell_type": "markdown",
   "metadata": {},
   "source": [
    "### Применим фреймворк `RICE` для приоритизации гипотез. Отсортируем их по убыванию приоритета."
   ]
  },
  {
   "cell_type": "code",
   "execution_count": 13,
   "metadata": {},
   "outputs": [
    {
     "data": {
      "text/html": [
       "<div>\n",
       "<style scoped>\n",
       "    .dataframe tbody tr th:only-of-type {\n",
       "        vertical-align: middle;\n",
       "    }\n",
       "\n",
       "    .dataframe tbody tr th {\n",
       "        vertical-align: top;\n",
       "    }\n",
       "\n",
       "    .dataframe thead th {\n",
       "        text-align: right;\n",
       "    }\n",
       "</style>\n",
       "<table border=\"1\" class=\"dataframe\">\n",
       "  <thead>\n",
       "    <tr style=\"text-align: right;\">\n",
       "      <th></th>\n",
       "      <th>Hypothesis</th>\n",
       "      <th>RICE</th>\n",
       "    </tr>\n",
       "  </thead>\n",
       "  <tbody>\n",
       "    <tr>\n",
       "      <th>7</th>\n",
       "      <td>Добавить форму подписки на все основные страницы, чтобы собрать базу клиентов для email-рассылок</td>\n",
       "      <td>112.0</td>\n",
       "    </tr>\n",
       "    <tr>\n",
       "      <th>2</th>\n",
       "      <td>Добавить блоки рекомендаций товаров на сайт интернет магазина, чтобы повысить конверсию и средний чек заказа</td>\n",
       "      <td>56.0</td>\n",
       "    </tr>\n",
       "    <tr>\n",
       "      <th>0</th>\n",
       "      <td>Добавить два новых канала привлечения трафика, что позволит привлекать на 30% больше пользователей</td>\n",
       "      <td>40.0</td>\n",
       "    </tr>\n",
       "    <tr>\n",
       "      <th>6</th>\n",
       "      <td>Показать на главной странице баннеры с актуальными акциями и распродажами, чтобы увеличить конверсию</td>\n",
       "      <td>40.0</td>\n",
       "    </tr>\n",
       "    <tr>\n",
       "      <th>8</th>\n",
       "      <td>Запустить акцию, дающую скидку на товар в день рождения</td>\n",
       "      <td>16.2</td>\n",
       "    </tr>\n",
       "    <tr>\n",
       "      <th>3</th>\n",
       "      <td>Изменить структура категорий, что увеличит конверсию, т.к. пользователи быстрее найдут нужный товар</td>\n",
       "      <td>9.0</td>\n",
       "    </tr>\n",
       "    <tr>\n",
       "      <th>1</th>\n",
       "      <td>Запустить собственную службу доставки, что сократит срок доставки заказов</td>\n",
       "      <td>4.0</td>\n",
       "    </tr>\n",
       "    <tr>\n",
       "      <th>5</th>\n",
       "      <td>Добавить страницу отзывов клиентов о магазине, что позволит увеличить количество заказов</td>\n",
       "      <td>4.0</td>\n",
       "    </tr>\n",
       "    <tr>\n",
       "      <th>4</th>\n",
       "      <td>Изменить цвет фона главной страницы, чтобы увеличить вовлеченность пользователей</td>\n",
       "      <td>3.0</td>\n",
       "    </tr>\n",
       "  </tbody>\n",
       "</table>\n",
       "</div>"
      ],
      "text/plain": [
       "                                                                                                     Hypothesis  \\\n",
       "7              Добавить форму подписки на все основные страницы, чтобы собрать базу клиентов для email-рассылок   \n",
       "2  Добавить блоки рекомендаций товаров на сайт интернет магазина, чтобы повысить конверсию и средний чек заказа   \n",
       "0            Добавить два новых канала привлечения трафика, что позволит привлекать на 30% больше пользователей   \n",
       "6          Показать на главной странице баннеры с актуальными акциями и распродажами, чтобы увеличить конверсию   \n",
       "8                                                       Запустить акцию, дающую скидку на товар в день рождения   \n",
       "3           Изменить структура категорий, что увеличит конверсию, т.к. пользователи быстрее найдут нужный товар   \n",
       "1                                     Запустить собственную службу доставки, что сократит срок доставки заказов   \n",
       "5                      Добавить страницу отзывов клиентов о магазине, что позволит увеличить количество заказов   \n",
       "4                              Изменить цвет фона главной страницы, чтобы увеличить вовлеченность пользователей   \n",
       "\n",
       "    RICE  \n",
       "7  112.0  \n",
       "2   56.0  \n",
       "0   40.0  \n",
       "6   40.0  \n",
       "8   16.2  \n",
       "3    9.0  \n",
       "1    4.0  \n",
       "5    4.0  \n",
       "4    3.0  "
      ]
     },
     "metadata": {},
     "output_type": "display_data"
    }
   ],
   "source": [
    "hypothesis['RICE'] = round(hypothesis['Reach'] * hypothesis['Impact'] * hypothesis['Confidence'] / hypothesis['Efforts'], 2)\n",
    "display(hypothesis[['Hypothesis', 'RICE']].sort_values('RICE', ascending=False))"
   ]
  },
  {
   "cell_type": "markdown",
   "metadata": {},
   "source": [
    "Мы видим, что приоритет гипотез при применении разных фреймворков отличается. Это связано с тем, что фреймворк `RICE` помимо \"силы\" гипотезы учитывает так же охват (количество пользователей, которыз она затронет)."
   ]
  },
  {
   "cell_type": "markdown",
   "metadata": {},
   "source": [
    "**В данном пункте была произведена приоретизация гипотез:**\n",
    "\n",
    "- При использовании фреймворка `ICE` наиболее перспективными гипотезами являются:\n",
    "    - Запустить акцию, дающую скидку на товар в день рождения,\n",
    "    - Добавить два новых канала привлечения трафика, что позволит привлекать на 30% больше пользователей,\n",
    "    - Добавить форму подписки на все основные страницы, чтобы собрать базу клиентов для email-рассылок;\n",
    "- При использовании фреймворка `RICE` наиболее перспективными гипотезами являются:\n",
    "    - Добавить форму подписки на все основные страницы, чтобы собрать базу клиентов для email-рассылок,\n",
    "    - Добавить блоки рекомендаций товаров на сайт интернет магазина, чтобы повысить конверсию и средний чек заказа,\n",
    "    - Добавить два новых канала привлечения трафика, что позволит привлекать на 30% больше пользователей;\n",
    "- Разница в приоритезации гипотез при использовании разных фреймворков объясняется разным охватом гипотез. Фреймворк `RICE` учитывает данный фактор, а `ICE` нет."
   ]
  },
  {
   "cell_type": "markdown",
   "metadata": {},
   "source": [
    "## Анализ A/B-теста"
   ]
  },
  {
   "cell_type": "markdown",
   "metadata": {},
   "source": [
    "Был проведен A/B-тест и получены результаты, которые описаны в файлах `/datasets/orders.csv` и `/datasets/visitors.csv`. Загрузим эти датафреймы и выведем общую информацию о них. Для этого объявим функцию, которая будет выводить общую информацию о датафрейме:"
   ]
  },
  {
   "cell_type": "code",
   "execution_count": 18,
   "metadata": {},
   "outputs": [],
   "source": [
    "try:\n",
    "    orders = pd.read_csv('/datasets/orders.csv')\n",
    "except:\n",
    "    orders = pd.read_csv('https://code.s3.yandex.net/datasets/orders.csv')\n",
    "try:\n",
    "    visitors = pd.read_csv('/datasets/visitors.csv')\n",
    "except:\n",
    "    visitors = pd.read_csv('https://code.s3.yandex.net/datasets/visitors.csv')"
   ]
  },
  {
   "cell_type": "code",
   "execution_count": 19,
   "metadata": {},
   "outputs": [],
   "source": [
    "def df_info(df):\n",
    "    print('Общая информация')\n",
    "    print(df.info(), '\\n')\n",
    "    print('Первые 5 строк')\n",
    "    display(df.head(5))\n",
    "    print('Абсолютное число пропусков')\n",
    "    print(df.isna().sum(), '\\n')\n",
    "    if df.isna().sum().sum() > 0:\n",
    "        print('Корреляция пропусков')\n",
    "        display(df.isnull().corr())\n",
    "    print('Количество явных дубликатов')\n",
    "    print(df.duplicated().sum(), '\\n')\n",
    "    print('Количество групп')\n",
    "    print(df['group'].nunique(), df['group'].unique(), '\\n')\n",
    "    print('Даты проведения теста')\n",
    "    print('От:', df['date'].min(), 'До:', df['date'].max(), '\\n')"
   ]
  },
  {
   "cell_type": "code",
   "execution_count": 20,
   "metadata": {},
   "outputs": [
    {
     "name": "stdout",
     "output_type": "stream",
     "text": [
      "Общая информация\n",
      "<class 'pandas.core.frame.DataFrame'>\n",
      "RangeIndex: 1197 entries, 0 to 1196\n",
      "Data columns (total 5 columns):\n",
      " #   Column         Non-Null Count  Dtype \n",
      "---  ------         --------------  ----- \n",
      " 0   transactionId  1197 non-null   int64 \n",
      " 1   visitorId      1197 non-null   int64 \n",
      " 2   date           1197 non-null   object\n",
      " 3   revenue        1197 non-null   int64 \n",
      " 4   group          1197 non-null   object\n",
      "dtypes: int64(3), object(2)\n",
      "memory usage: 46.9+ KB\n",
      "None \n",
      "\n",
      "Первые 5 строк\n"
     ]
    },
    {
     "data": {
      "text/html": [
       "<div>\n",
       "<style scoped>\n",
       "    .dataframe tbody tr th:only-of-type {\n",
       "        vertical-align: middle;\n",
       "    }\n",
       "\n",
       "    .dataframe tbody tr th {\n",
       "        vertical-align: top;\n",
       "    }\n",
       "\n",
       "    .dataframe thead th {\n",
       "        text-align: right;\n",
       "    }\n",
       "</style>\n",
       "<table border=\"1\" class=\"dataframe\">\n",
       "  <thead>\n",
       "    <tr style=\"text-align: right;\">\n",
       "      <th></th>\n",
       "      <th>transactionId</th>\n",
       "      <th>visitorId</th>\n",
       "      <th>date</th>\n",
       "      <th>revenue</th>\n",
       "      <th>group</th>\n",
       "    </tr>\n",
       "  </thead>\n",
       "  <tbody>\n",
       "    <tr>\n",
       "      <th>0</th>\n",
       "      <td>3667963787</td>\n",
       "      <td>3312258926</td>\n",
       "      <td>2019-08-15</td>\n",
       "      <td>1650</td>\n",
       "      <td>B</td>\n",
       "    </tr>\n",
       "    <tr>\n",
       "      <th>1</th>\n",
       "      <td>2804400009</td>\n",
       "      <td>3642806036</td>\n",
       "      <td>2019-08-15</td>\n",
       "      <td>730</td>\n",
       "      <td>B</td>\n",
       "    </tr>\n",
       "    <tr>\n",
       "      <th>2</th>\n",
       "      <td>2961555356</td>\n",
       "      <td>4069496402</td>\n",
       "      <td>2019-08-15</td>\n",
       "      <td>400</td>\n",
       "      <td>A</td>\n",
       "    </tr>\n",
       "    <tr>\n",
       "      <th>3</th>\n",
       "      <td>3797467345</td>\n",
       "      <td>1196621759</td>\n",
       "      <td>2019-08-15</td>\n",
       "      <td>9759</td>\n",
       "      <td>B</td>\n",
       "    </tr>\n",
       "    <tr>\n",
       "      <th>4</th>\n",
       "      <td>2282983706</td>\n",
       "      <td>2322279887</td>\n",
       "      <td>2019-08-15</td>\n",
       "      <td>2308</td>\n",
       "      <td>B</td>\n",
       "    </tr>\n",
       "  </tbody>\n",
       "</table>\n",
       "</div>"
      ],
      "text/plain": [
       "   transactionId   visitorId        date  revenue group\n",
       "0     3667963787  3312258926  2019-08-15     1650     B\n",
       "1     2804400009  3642806036  2019-08-15      730     B\n",
       "2     2961555356  4069496402  2019-08-15      400     A\n",
       "3     3797467345  1196621759  2019-08-15     9759     B\n",
       "4     2282983706  2322279887  2019-08-15     2308     B"
      ]
     },
     "metadata": {},
     "output_type": "display_data"
    },
    {
     "name": "stdout",
     "output_type": "stream",
     "text": [
      "Абсолютное число пропусков\n",
      "transactionId    0\n",
      "visitorId        0\n",
      "date             0\n",
      "revenue          0\n",
      "group            0\n",
      "dtype: int64 \n",
      "\n",
      "Количество явных дубликатов\n",
      "0 \n",
      "\n",
      "Количество групп\n",
      "2 ['B' 'A'] \n",
      "\n",
      "Даты проведения теста\n",
      "От: 2019-08-01 До: 2019-08-31 \n",
      "\n",
      "Общая информация\n",
      "<class 'pandas.core.frame.DataFrame'>\n",
      "RangeIndex: 62 entries, 0 to 61\n",
      "Data columns (total 3 columns):\n",
      " #   Column    Non-Null Count  Dtype \n",
      "---  ------    --------------  ----- \n",
      " 0   date      62 non-null     object\n",
      " 1   group     62 non-null     object\n",
      " 2   visitors  62 non-null     int64 \n",
      "dtypes: int64(1), object(2)\n",
      "memory usage: 1.6+ KB\n",
      "None \n",
      "\n",
      "Первые 5 строк\n"
     ]
    },
    {
     "data": {
      "text/html": [
       "<div>\n",
       "<style scoped>\n",
       "    .dataframe tbody tr th:only-of-type {\n",
       "        vertical-align: middle;\n",
       "    }\n",
       "\n",
       "    .dataframe tbody tr th {\n",
       "        vertical-align: top;\n",
       "    }\n",
       "\n",
       "    .dataframe thead th {\n",
       "        text-align: right;\n",
       "    }\n",
       "</style>\n",
       "<table border=\"1\" class=\"dataframe\">\n",
       "  <thead>\n",
       "    <tr style=\"text-align: right;\">\n",
       "      <th></th>\n",
       "      <th>date</th>\n",
       "      <th>group</th>\n",
       "      <th>visitors</th>\n",
       "    </tr>\n",
       "  </thead>\n",
       "  <tbody>\n",
       "    <tr>\n",
       "      <th>0</th>\n",
       "      <td>2019-08-01</td>\n",
       "      <td>A</td>\n",
       "      <td>719</td>\n",
       "    </tr>\n",
       "    <tr>\n",
       "      <th>1</th>\n",
       "      <td>2019-08-02</td>\n",
       "      <td>A</td>\n",
       "      <td>619</td>\n",
       "    </tr>\n",
       "    <tr>\n",
       "      <th>2</th>\n",
       "      <td>2019-08-03</td>\n",
       "      <td>A</td>\n",
       "      <td>507</td>\n",
       "    </tr>\n",
       "    <tr>\n",
       "      <th>3</th>\n",
       "      <td>2019-08-04</td>\n",
       "      <td>A</td>\n",
       "      <td>717</td>\n",
       "    </tr>\n",
       "    <tr>\n",
       "      <th>4</th>\n",
       "      <td>2019-08-05</td>\n",
       "      <td>A</td>\n",
       "      <td>756</td>\n",
       "    </tr>\n",
       "  </tbody>\n",
       "</table>\n",
       "</div>"
      ],
      "text/plain": [
       "         date group  visitors\n",
       "0  2019-08-01     A       719\n",
       "1  2019-08-02     A       619\n",
       "2  2019-08-03     A       507\n",
       "3  2019-08-04     A       717\n",
       "4  2019-08-05     A       756"
      ]
     },
     "metadata": {},
     "output_type": "display_data"
    },
    {
     "name": "stdout",
     "output_type": "stream",
     "text": [
      "Абсолютное число пропусков\n",
      "date        0\n",
      "group       0\n",
      "visitors    0\n",
      "dtype: int64 \n",
      "\n",
      "Количество явных дубликатов\n",
      "0 \n",
      "\n",
      "Количество групп\n",
      "2 ['A' 'B'] \n",
      "\n",
      "Даты проведения теста\n",
      "От: 2019-08-01 До: 2019-08-31 \n",
      "\n"
     ]
    }
   ],
   "source": [
    "for i in [orders, visitors]:\n",
    "    df_info(i)"
   ]
  },
  {
   "cell_type": "markdown",
   "metadata": {},
   "source": [
    "Проверим количество пользователей в каждой группе по таблице с заказами:"
   ]
  },
  {
   "cell_type": "code",
   "execution_count": 22,
   "metadata": {},
   "outputs": [
    {
     "data": {
      "text/html": [
       "<div>\n",
       "<style scoped>\n",
       "    .dataframe tbody tr th:only-of-type {\n",
       "        vertical-align: middle;\n",
       "    }\n",
       "\n",
       "    .dataframe tbody tr th {\n",
       "        vertical-align: top;\n",
       "    }\n",
       "\n",
       "    .dataframe thead th {\n",
       "        text-align: right;\n",
       "    }\n",
       "</style>\n",
       "<table border=\"1\" class=\"dataframe\">\n",
       "  <thead>\n",
       "    <tr style=\"text-align: right;\">\n",
       "      <th></th>\n",
       "      <th>group</th>\n",
       "      <th>visitorId</th>\n",
       "    </tr>\n",
       "  </thead>\n",
       "  <tbody>\n",
       "    <tr>\n",
       "      <th>0</th>\n",
       "      <td>A</td>\n",
       "      <td>503</td>\n",
       "    </tr>\n",
       "    <tr>\n",
       "      <th>1</th>\n",
       "      <td>B</td>\n",
       "      <td>586</td>\n",
       "    </tr>\n",
       "  </tbody>\n",
       "</table>\n",
       "</div>"
      ],
      "text/plain": [
       "  group  visitorId\n",
       "0     A        503\n",
       "1     B        586"
      ]
     },
     "execution_count": 22,
     "metadata": {},
     "output_type": "execute_result"
    }
   ],
   "source": [
    "test_group = orders.groupby('group', as_index=False).agg({'visitorId': 'nunique'})\n",
    "test_group"
   ]
  },
  {
   "cell_type": "markdown",
   "metadata": {},
   "source": [
    "Проверим вероятность попасть попадания пользователя в группу `A`:"
   ]
  },
  {
   "cell_type": "code",
   "execution_count": 24,
   "metadata": {},
   "outputs": [
    {
     "data": {
      "text/plain": [
       "46.19"
      ]
     },
     "execution_count": 24,
     "metadata": {},
     "output_type": "execute_result"
    }
   ],
   "source": [
    "round(\n",
    "    test_group[test_group['group'] == 'A']['visitorId'][0] / \n",
    "(test_group[test_group['group'] == 'A']['visitorId'][0] + test_group[test_group['group'] == 'B']['visitorId'][1]) *\n",
    "    100, 2\n",
    ")"
   ]
  },
  {
   "cell_type": "markdown",
   "metadata": {},
   "source": [
    "Проверим вероятность попасть попадания пользователя в группу `B`:"
   ]
  },
  {
   "cell_type": "code",
   "execution_count": 26,
   "metadata": {},
   "outputs": [
    {
     "data": {
      "text/plain": [
       "53.81"
      ]
     },
     "execution_count": 26,
     "metadata": {},
     "output_type": "execute_result"
    }
   ],
   "source": [
    "round(\n",
    "    test_group[test_group['group'] == 'B']['visitorId'][1] / \n",
    "(test_group[test_group['group'] == 'A']['visitorId'][0] + test_group[test_group['group'] == 'B']['visitorId'][1]) *\n",
    "    100, 2\n",
    ")"
   ]
  },
  {
   "cell_type": "markdown",
   "metadata": {},
   "source": [
    "Пропусков и явных дубликатов нет. Необходимо привести к типу `date` столбцы с датами:"
   ]
  },
  {
   "cell_type": "code",
   "execution_count": 28,
   "metadata": {},
   "outputs": [],
   "source": [
    "visitors['date'] = visitors['date'].map(\n",
    "    lambda x: dt.datetime.strptime(x, '%Y-%m-%d')\n",
    ")\n",
    "orders['date'] = orders['date'].map(\n",
    "    lambda x: dt.datetime.strptime(x, '%Y-%m-%d')\n",
    ")"
   ]
  },
  {
   "cell_type": "markdown",
   "metadata": {},
   "source": [
    "### Построим график кумулятивной выручки по группам"
   ]
  },
  {
   "cell_type": "code",
   "execution_count": 30,
   "metadata": {},
   "outputs": [
    {
     "data": {
      "image/png": "[encoded data removed]",
      "text/plain": [
       "<Figure size 1500x500 with 1 Axes>"
      ]
     },
     "metadata": {},
     "output_type": "display_data"
    }
   ],
   "source": [
    "register_matplotlib_converters()\n",
    "datesGroups = orders[['date', 'group']].drop_duplicates()\n",
    "\n",
    "ordersAggregated = datesGroups.apply(\n",
    "    lambda x: orders[\n",
    "        np.logical_and(\n",
    "            orders['date'] <= x['date'], orders['group'] == x['group']\n",
    "        )\n",
    "    ].agg(\n",
    "        {\n",
    "            'date': 'max',\n",
    "            'group': 'max',\n",
    "            'transactionId': 'nunique',\n",
    "            'visitorId': 'nunique',\n",
    "            'revenue': 'sum',\n",
    "        }\n",
    "    ),\n",
    "    axis=1,\n",
    ").sort_values(by=['date', 'group'])\n",
    "\n",
    "visitorsAggregated = datesGroups.apply(\n",
    "    lambda x: visitors[\n",
    "        np.logical_and(\n",
    "            visitors['date'] <= x['date'], visitors['group'] == x['group']\n",
    "        )\n",
    "    ].agg({'date': 'max', 'group': 'max', 'visitors': 'sum'}),\n",
    "    axis=1,\n",
    ").sort_values(by=['date', 'group'])\n",
    "\n",
    "cumulativeData = ordersAggregated.merge(\n",
    "    visitorsAggregated, left_on=['date', 'group'], right_on=['date', 'group']\n",
    ")\n",
    "cumulativeData.columns = [\n",
    "    'date',\n",
    "    'group',\n",
    "    'orders',\n",
    "    'buyers',\n",
    "    'revenue',\n",
    "    'visitors',\n",
    "]\n",
    "cumulativeRevenueA = cumulativeData[cumulativeData['group']=='A'][['date','revenue', 'orders']]\n",
    "cumulativeRevenueB = cumulativeData[cumulativeData['group']=='B'][['date','revenue', 'orders']]\n",
    "plt.figure(figsize=(15, 5))\n",
    "plt.title('Куммулятивная выручка по группам')\n",
    "plt.plot(cumulativeRevenueA['date'], cumulativeRevenueA['revenue'], label='A')\n",
    "plt.plot(cumulativeRevenueB['date'], cumulativeRevenueB['revenue'], label='B')\n",
    "plt.legend()\n",
    "plt.xlabel(\"Дата\")\n",
    "plt.ylabel(\"Выручка\")\n",
    "plt.show()"
   ]
  },
  {
   "cell_type": "markdown",
   "metadata": {},
   "source": [
    "Видим, что выручка в тестовой группе немного опережала контрольную, но `2019-08-19` происходит аномально большой заказ, в результате чего тестовая группа сильно вырывается вперед. После крупного заказа куммулятивная выручка в контрольной и тестовой группах растет примерно одинаково."
   ]
  },
  {
   "cell_type": "markdown",
   "metadata": {},
   "source": [
    "### Построим график кумулятивного среднего чека по группам"
   ]
  },
  {
   "cell_type": "code",
   "execution_count": 33,
   "metadata": {},
   "outputs": [
    {
     "data": {
      "image/png": "[encoded data removed]",
      "text/plain": [
       "<Figure size 1500x500 with 1 Axes>"
      ]
     },
     "metadata": {},
     "output_type": "display_data"
    }
   ],
   "source": [
    "plt.figure(figsize=(15, 5))\n",
    "plt.title('Куммулятивный средний чек по группам')\n",
    "plt.plot(cumulativeRevenueA['date'], cumulativeRevenueA['revenue']/cumulativeRevenueA['orders'], label='A')\n",
    "plt.plot(cumulativeRevenueB['date'], cumulativeRevenueB['revenue']/cumulativeRevenueB['orders'], label='B')\n",
    "plt.legend() \n",
    "plt.xlabel(\"Дата\")\n",
    "plt.ylabel(\"Чек\")\n",
    "plt.show()"
   ]
  },
  {
   "cell_type": "markdown",
   "metadata": {},
   "source": [
    "В начале теста средний чек колеблется в обеих группах, затем, после аномально большого заказа `2019-08-19`, тестовая группа начинает сильно опережать контрольную, но далее наблюдается тенденция на небольшое сокращение разницы между тестовой и контрольной группами."
   ]
  },
  {
   "cell_type": "markdown",
   "metadata": {},
   "source": [
    "### Построим график относительного изменения кумулятивного среднего чека группы B к группе A"
   ]
  },
  {
   "cell_type": "code",
   "execution_count": 36,
   "metadata": {},
   "outputs": [
    {
     "data": {
      "image/png": "[encoded data removed]",
      "text/plain": [
       "<Figure size 1500x500 with 1 Axes>"
      ]
     },
     "metadata": {},
     "output_type": "display_data"
    }
   ],
   "source": [
    "mergedCumulativeRevenue = cumulativeRevenueA.merge(cumulativeRevenueB, left_on='date', right_on='date', how='left', suffixes=['A', 'B'])\n",
    "plt.figure(figsize=(15, 5))\n",
    "plt.title('Относительное изменение куммулятивного среднего чека по группам')\n",
    "plt.plot(\n",
    "    mergedCumulativeRevenue['date'],\n",
    "    (mergedCumulativeRevenue['revenueB']/mergedCumulativeRevenue['ordersB'])/(mergedCumulativeRevenue['revenueA']/mergedCumulativeRevenue['ordersA'])-1\n",
    ")\n",
    "plt.axhline(y=0, color='black', linestyle='--')\n",
    "plt.xlabel(\"Дата\")\n",
    "plt.show()"
   ]
  },
  {
   "cell_type": "markdown",
   "metadata": {},
   "source": [
    "Видим так же колебания среднего чека и выброс, описанный выше."
   ]
  },
  {
   "cell_type": "markdown",
   "metadata": {},
   "source": [
    "### Построим график кумулятивного среднего количества заказов на посетителя по группам"
   ]
  },
  {
   "cell_type": "code",
   "execution_count": 39,
   "metadata": {},
   "outputs": [
    {
     "data": {
      "image/png": "[encoded data removed]",
      "text/plain": [
       "<Figure size 1500x500 with 1 Axes>"
      ]
     },
     "metadata": {},
     "output_type": "display_data"
    }
   ],
   "source": [
    "cumulativeData['conversion'] = cumulativeData['orders']/cumulativeData['visitors']\n",
    "cumulativeDataA = cumulativeData[cumulativeData['group']=='A']\n",
    "cumulativeDataB = cumulativeData[cumulativeData['group']=='B']\n",
    "plt.figure(figsize=(15, 5))\n",
    "plt.title('Куммулятивное среднее количество заказов на посетителя по группам')\n",
    "plt.plot(cumulativeDataA['date'], cumulativeDataA['conversion'], label='A')\n",
    "plt.plot(cumulativeDataB['date'], cumulativeDataB['conversion'], label='B')\n",
    "plt.legend()\n",
    "plt.axis([dt.datetime(2019, 8, 1), dt.datetime(2019, 8, 31), 0, 0.06])\n",
    "plt.xlabel(\"Дата\")\n",
    "plt.ylabel(\"Количество заказов\")\n",
    "plt.show()"
   ]
  },
  {
   "cell_type": "markdown",
   "metadata": {},
   "source": [
    "Первые дни теста мы видим колебания среднего количества заказов на посетителя в обеих группах, но постепенно оба сегмента выровнялись, при чем тестовая группа на уровне несколько большем, чем контрольная."
   ]
  },
  {
   "cell_type": "markdown",
   "metadata": {},
   "source": [
    "### Построим график относительного изменения кумулятивного среднего количества заказов на посетителя группы B к группе A."
   ]
  },
  {
   "cell_type": "code",
   "execution_count": 42,
   "metadata": {},
   "outputs": [
    {
     "data": {
      "image/png": "[encoded data removed]",
      "text/plain": [
       "<Figure size 1500x500 with 1 Axes>"
      ]
     },
     "metadata": {},
     "output_type": "display_data"
    }
   ],
   "source": [
    "mergedCumulativeConversions = cumulativeDataA[['date','conversion']].merge(cumulativeDataB[['date','conversion']], left_on='date', right_on='date', how='left', suffixes=['A', 'B'])\n",
    "plt.figure(figsize=(15, 5))\n",
    "plt.title('Относительный прирост кумулятивного среднего количества заказов на посетителя группы B относительно группы A')\n",
    "plt.plot(\n",
    "    mergedCumulativeConversions['date'],\n",
    "    mergedCumulativeConversions['conversionB']/mergedCumulativeConversions['conversionA']-1\n",
    ")\n",
    "plt.axhline(y=0, color='black', linestyle='--')\n",
    "plt.axhline(y=0.15, color='grey', linestyle='--')\n",
    "plt.axis([\"2019-08-01\", '2019-09-01', -0.5, 0.5])\n",
    "plt.xlabel(\"Дата\")\n",
    "plt.show()"
   ]
  },
  {
   "cell_type": "markdown",
   "metadata": {},
   "source": [
    "После колебаний в начале теста группа `B` лидирует по метрике: становится лучше, либо зафиксировалась на приросте около `15%`."
   ]
  },
  {
   "cell_type": "markdown",
   "metadata": {},
   "source": [
    "### Построим точечный график количества заказов по пользователям"
   ]
  },
  {
   "cell_type": "code",
   "execution_count": 45,
   "metadata": {},
   "outputs": [
    {
     "data": {
      "image/png": "[encoded data removed]",
      "text/plain": [
       "<Figure size 1000x1000 with 1 Axes>"
      ]
     },
     "metadata": {},
     "output_type": "display_data"
    }
   ],
   "source": [
    "ordersByUsers = (\n",
    "    orders.groupby('visitorId', as_index=False)\n",
    "    .agg({'transactionId': 'nunique'})\n",
    ")\n",
    "ordersByUsers.columns = ['userId', 'orders']\n",
    "x_values = pd.Series(range(0, len(ordersByUsers)))\n",
    "plt.figure(figsize=(10, 10))\n",
    "plt.title('Распределение количества заказов по пользователям')\n",
    "plt.scatter(x_values, ordersByUsers['orders'])\n",
    "plt.ylabel(\"Количество заказов\")\n",
    "plt.show()"
   ]
  },
  {
   "cell_type": "markdown",
   "metadata": {},
   "source": [
    "Пользователей, заказавших более 2 раз очень мало. Посчитаем перцентили."
   ]
  },
  {
   "cell_type": "markdown",
   "metadata": {},
   "source": [
    "### Посчитаем 95-й и 99-й перцентили количества заказов на пользователя"
   ]
  },
  {
   "cell_type": "code",
   "execution_count": 48,
   "metadata": {},
   "outputs": [
    {
     "name": "stdout",
     "output_type": "stream",
     "text": [
      "[2. 4.]\n"
     ]
    }
   ],
   "source": [
    "print(np.percentile(ordersByUsers['orders'], [95, 99]))"
   ]
  },
  {
   "cell_type": "markdown",
   "metadata": {},
   "source": [
    "Не более `5%` пользователей совершали более `2` заказов. И не более `1%` пользователей делали более 4 заказов. **Примем за границу нормальных заказов 3 заказа на пользователя.**"
   ]
  },
  {
   "cell_type": "markdown",
   "metadata": {},
   "source": [
    "### Построим точечный график стоимостей заказов"
   ]
  },
  {
   "cell_type": "code",
   "execution_count": 51,
   "metadata": {},
   "outputs": [
    {
     "data": {
      "image/png": "[encoded data removed]",
      "text/plain": [
       "<Figure size 1000x1000 with 1 Axes>"
      ]
     },
     "metadata": {},
     "output_type": "display_data"
    }
   ],
   "source": [
    "x_values = pd.Series(range(0, len(orders['revenue'])))\n",
    "plt.figure(figsize=(10, 10))\n",
    "plt.title('Распределение стоимостей заказов по пользователям')\n",
    "plt.scatter(x_values, orders['revenue'])\n",
    "plt.ylabel(\"Стоимость заказа\")\n",
    "plt.show()"
   ]
  },
  {
   "cell_type": "markdown",
   "metadata": {},
   "source": [
    "Имеем всего `2` заказа стоимостью больше `200000`. Посчитаем перцентили."
   ]
  },
  {
   "cell_type": "markdown",
   "metadata": {},
   "source": [
    "### Посчитаем 95-й и 99-й перцентили стоимости заказов"
   ]
  },
  {
   "cell_type": "code",
   "execution_count": 54,
   "metadata": {},
   "outputs": [
    {
     "name": "stdout",
     "output_type": "stream",
     "text": [
      "[28000.  58233.2]\n"
     ]
    }
   ],
   "source": [
    "print(np.percentile(orders['revenue'], [95, 99]))"
   ]
  },
  {
   "cell_type": "markdown",
   "metadata": {},
   "source": [
    "Не более, чем у `5%` заказов чек был больше `28000`. И не более `1%` - дороже `58233,2`. **Примем за порог отсечения аномальных заказов чек в `35000`**."
   ]
  },
  {
   "cell_type": "markdown",
   "metadata": {},
   "source": [
    "### Посчитаем статистическую значимость различий в среднем количестве заказов на посетителя между группами по «сырым» данным"
   ]
  },
  {
   "cell_type": "markdown",
   "metadata": {},
   "source": [
    "**Сформулируем нулевую и альтернативную гипотезы:**\n",
    "\n",
    "- Н0 - среднее количество заказов на посетителя в группе `A` и группе `B` одинаково;\n",
    "- Н1 - среднее количество заказов на посетителя в группе `A` и группе `B` разное."
   ]
  },
  {
   "cell_type": "code",
   "execution_count": 58,
   "metadata": {},
   "outputs": [
    {
     "name": "stdout",
     "output_type": "stream",
     "text": [
      "P-value: 0.01679\n",
      "Относительное различие групп: 0.138\n"
     ]
    }
   ],
   "source": [
    "visitorsADaily = visitors[visitors['group'] == 'A'][['date', 'visitors']]\n",
    "visitorsADaily.columns = ['date', 'visitorsPerDateA']\n",
    "\n",
    "visitorsACummulative = visitorsADaily.apply(\n",
    "    lambda x: visitorsADaily[visitorsADaily['date'] <= x['date']].agg(\n",
    "        {'date': 'max', 'visitorsPerDateA': 'sum'}\n",
    "    ),\n",
    "    axis=1,\n",
    ")\n",
    "visitorsACummulative.columns = ['date', 'visitorsCummulativeA']\n",
    "\n",
    "visitorsBDaily = visitors[visitors['group'] == 'B'][['date', 'visitors']]\n",
    "visitorsBDaily.columns = ['date', 'visitorsPerDateB']\n",
    "\n",
    "visitorsBCummulative = visitorsBDaily.apply(\n",
    "    lambda x: visitorsBDaily[visitorsBDaily['date'] <= x['date']].agg(\n",
    "        {'date': 'max', 'visitorsPerDateB': 'sum'}\n",
    "    ),\n",
    "    axis=1,\n",
    ")\n",
    "visitorsBCummulative.columns = ['date', 'visitorsCummulativeB']\n",
    "\n",
    "ordersADaily = (\n",
    "    orders[orders['group'] == 'A'][['date', 'transactionId', 'visitorId', 'revenue']]\n",
    "    .groupby('date', as_index=False)\n",
    "    .agg({'transactionId': pd.Series.nunique, 'revenue': 'sum'})\n",
    ")\n",
    "ordersADaily.columns = ['date', 'ordersPerDateA', 'revenuePerDateA']\n",
    "\n",
    "ordersACummulative = ordersADaily.apply(\n",
    "    lambda x: ordersADaily[ordersADaily['date'] <= x['date']].agg(\n",
    "        {'date': 'max', 'ordersPerDateA': 'sum', 'revenuePerDateA': 'sum'}\n",
    "    ),\n",
    "    axis=1,\n",
    ").sort_values(by=['date'])\n",
    "ordersACummulative.columns = [\n",
    "    'date',\n",
    "    'ordersCummulativeA',\n",
    "    'revenueCummulativeA',\n",
    "]\n",
    "\n",
    "ordersBDaily = (\n",
    "    orders[orders['group'] == 'B'][['date', 'transactionId', 'visitorId', 'revenue']]\n",
    "    .groupby('date', as_index=False)\n",
    "    .agg({'transactionId': pd.Series.nunique, 'revenue': 'sum'})\n",
    ")\n",
    "ordersBDaily.columns = ['date', 'ordersPerDateB', 'revenuePerDateB']\n",
    "\n",
    "ordersBCummulative = ordersBDaily.apply(\n",
    "    lambda x: ordersBDaily[ordersBDaily['date'] <= x['date']].agg(\n",
    "        {'date': 'max', 'ordersPerDateB': 'sum', 'revenuePerDateB': 'sum'}\n",
    "    ),\n",
    "    axis=1,\n",
    ").sort_values(by=['date'])\n",
    "ordersBCummulative.columns = [\n",
    "    'date',\n",
    "    'ordersCummulativeB',\n",
    "    'revenueCummulativeB',\n",
    "]\n",
    "\n",
    "data = (\n",
    "    ordersADaily.merge(\n",
    "        ordersBDaily, left_on='date', right_on='date', how='left'\n",
    "    )\n",
    "    .merge(ordersACummulative, left_on='date', right_on='date', how='left')\n",
    "    .merge(ordersBCummulative, left_on='date', right_on='date', how='left')\n",
    "    .merge(visitorsADaily, left_on='date', right_on='date', how='left')\n",
    "    .merge(visitorsBDaily, left_on='date', right_on='date', how='left')\n",
    "    .merge(visitorsACummulative, left_on='date', right_on='date', how='left')\n",
    "    .merge(visitorsBCummulative, left_on='date', right_on='date', how='left')\n",
    ")\n",
    "\n",
    "ordersByUsersA = (\n",
    "    orders[orders['group'] == 'A']\n",
    "    .groupby('visitorId', as_index=False)\n",
    "    .agg({'transactionId': pd.Series.nunique})\n",
    ")\n",
    "ordersByUsersA.columns = ['userId', 'orders']\n",
    "\n",
    "ordersByUsersB = (\n",
    "    orders[orders['group'] == 'B']\n",
    "    .groupby('visitorId', as_index=False)\n",
    "    .agg({'transactionId': pd.Series.nunique})\n",
    ")\n",
    "ordersByUsersB.columns = ['userId', 'orders']\n",
    "\n",
    "sampleA = pd.concat([ordersByUsersA['orders'],pd.Series(0, index=np.arange(data['visitorsPerDateA'].sum() - len(ordersByUsersA['orders'])), name='orders')],axis=0)\n",
    "\n",
    "sampleB = pd.concat([ordersByUsersB['orders'],pd.Series(0, index=np.arange(data['visitorsPerDateB'].sum() - len(ordersByUsersB['orders'])), name='orders')],axis=0)\n",
    "\n",
    "ordersByUsersA = (\n",
    "    orders[orders['group'] == 'A']\n",
    "    .groupby('visitorId', as_index=False)\n",
    "    .agg({'transactionId': pd.Series.nunique})\n",
    ")\n",
    "ordersByUsersA.columns = ['userId', 'orders']\n",
    "\n",
    "ordersByUsersB = (\n",
    "    orders[orders['group'] == 'B']\n",
    "    .groupby('visitorId', as_index=False)\n",
    "    .agg({'transactionId': pd.Series.nunique})\n",
    ")\n",
    "ordersByUsersB.columns = ['userId', 'orders']\n",
    "\n",
    "sampleA = pd.concat(\n",
    "    [\n",
    "        ordersByUsersA['orders'],\n",
    "        pd.Series(\n",
    "            0,\n",
    "            index=np.arange(\n",
    "                data['visitorsPerDateA'].sum() - len(ordersByUsersA['orders'])\n",
    "            ),\n",
    "            name='orders',\n",
    "        ),\n",
    "    ],\n",
    "    axis=0,\n",
    ")\n",
    "\n",
    "sampleB = pd.concat(\n",
    "    [\n",
    "        ordersByUsersB['orders'],\n",
    "        pd.Series(\n",
    "            0,\n",
    "            index=np.arange(\n",
    "                data['visitorsPerDateB'].sum() - len(ordersByUsersB['orders'])\n",
    "            ),\n",
    "            name='orders',\n",
    "        ),\n",
    "    ],\n",
    "    axis=0,\n",
    ")\n",
    "\n",
    "print('P-value:', \"{0:.5f}\".format(stats.mannwhitneyu(sampleA, sampleB)[1]))\n",
    "print('Относительное различие групп:', \"{0:.3f}\".format(sampleB.mean() / sampleA.mean() - 1))"
   ]
  },
  {
   "cell_type": "markdown",
   "metadata": {},
   "source": [
    "P-value меньше 0,05, поэтому гипотезу о равенстве количества заказов на посетителя в пользу гипотезы о том, что `количество заказов на посетителя в группе В выше`. По \"сырым данным\" делаем вывод, что в среднем количестве заказов между группами есть статистически значимые различия. Относительный прирост группы `B` составляет `13,8%`."
   ]
  },
  {
   "cell_type": "markdown",
   "metadata": {},
   "source": [
    "### Посчитаем статистическую значимость различий в среднем чеке заказа между группами по «сырым» данным"
   ]
  },
  {
   "cell_type": "markdown",
   "metadata": {},
   "source": [
    "**Сформулируем нулевую и альтернативную гипотезы:**\n",
    "\n",
    "- Н0 - средний чек заказа в группе `A` и группе `B` одинаковый;\n",
    "- Н1 - средний чек заказа в группе `A` и группе `B` разный."
   ]
  },
  {
   "cell_type": "code",
   "execution_count": 62,
   "metadata": {},
   "outputs": [
    {
     "name": "stdout",
     "output_type": "stream",
     "text": [
      "P-value: 0.729\n",
      "Относительное различие групп: 0.259\n"
     ]
    }
   ],
   "source": [
    "print('P-value:', '{0:.3f}'.format(stats.mannwhitneyu(orders[orders['group']=='A']['revenue'], orders[orders['group']=='B']['revenue'])[1]))\n",
    "print('Относительное различие групп:', '{0:.3f}'.format(orders[orders['group']=='B']['revenue'].mean()/orders[orders['group']=='A']['revenue'].mean()-1))"
   ]
  },
  {
   "cell_type": "markdown",
   "metadata": {},
   "source": [
    "При большом относительном различии `25,9%` получаем очень высокий p-value `0,729`, то есть по \"сырым данным\" мы не можем отвергнуть нулевую гипотезу об однородности тестовой и контрольной групп."
   ]
  },
  {
   "cell_type": "markdown",
   "metadata": {},
   "source": [
    "### Посчитаем статистическую значимость различий в среднем количестве заказов на посетителя между группами по «очищенным» данным"
   ]
  },
  {
   "cell_type": "markdown",
   "metadata": {},
   "source": [
    "**Сформулируем нулевую и альтернативную гипотезы:**\n",
    "\n",
    "- Н0 - среднее количество заказов на посетителя в группе `A` и группе `B` одинаково;\n",
    "- Н1 - среднее количество заказов на посетителя в группе `A` и группе `B` разное."
   ]
  },
  {
   "cell_type": "markdown",
   "metadata": {},
   "source": [
    "Примем за аномальных пользователей тех, кто сделал `4` заказа и более, или совершил заказ на сумму более `35000`. Так мы уберем `1%` пользователей с наибольшим числом заказов и от `1%` до `5%` заказов с наибольшей стоимостью."
   ]
  },
  {
   "cell_type": "code",
   "execution_count": 67,
   "metadata": {},
   "outputs": [
    {
     "name": "stdout",
     "output_type": "stream",
     "text": [
      "P-value: 0.01390\n",
      "Относительное различие групп: 0.155\n"
     ]
    }
   ],
   "source": [
    "usersWithManyOrders = pd.concat(\n",
    "    [\n",
    "        ordersByUsersA[ordersByUsersA['orders'] > 3]['userId'],\n",
    "        ordersByUsersB[ordersByUsersB['orders'] > 3]['userId'],\n",
    "    ],\n",
    "    axis=0,\n",
    ")\n",
    "usersWithExpensiveOrders = orders[orders['revenue'] > 35000]['visitorId']\n",
    "abnormalUsers = (\n",
    "    pd.concat([usersWithManyOrders, usersWithExpensiveOrders], axis=0)\n",
    "    .drop_duplicates()\n",
    "    .sort_values()\n",
    ")\n",
    "sampleAFiltered = pd.concat(\n",
    "    [\n",
    "        ordersByUsersA[\n",
    "            np.logical_not(ordersByUsersA['userId'].isin(abnormalUsers))\n",
    "        ]['orders'],\n",
    "        pd.Series(\n",
    "            0,\n",
    "            index=np.arange(\n",
    "                data['visitorsPerDateA'].sum() - len(ordersByUsersA['orders'])\n",
    "            ),\n",
    "            name='orders',\n",
    "        ),\n",
    "    ],\n",
    "    axis=0,\n",
    ")\n",
    "\n",
    "sampleBFiltered = pd.concat(\n",
    "    [\n",
    "        ordersByUsersB[\n",
    "            np.logical_not(ordersByUsersB['userId'].isin(abnormalUsers))\n",
    "        ]['orders'],\n",
    "        pd.Series(\n",
    "            0,\n",
    "            index=np.arange(\n",
    "                data['visitorsPerDateB'].sum() - len(ordersByUsersB['orders'])\n",
    "            ),\n",
    "            name='orders',\n",
    "        ),\n",
    "    ],\n",
    "    axis=0,\n",
    ")\n",
    "\n",
    "print('P-value:', '{0:.5f}'.format(stats.mannwhitneyu(sampleAFiltered, sampleBFiltered)[1]))\n",
    "print('Относительное различие групп:', '{0:.3f}'.format(sampleBFiltered.mean()/sampleAFiltered.mean()-1))"
   ]
  },
  {
   "cell_type": "markdown",
   "metadata": {},
   "source": [
    "Как и в случае с сырыми данными статистическая значимость достигнута."
   ]
  },
  {
   "cell_type": "markdown",
   "metadata": {},
   "source": [
    "### Посчитаем статистическую значимость различий в среднем чеке заказа между группами по «очищенным» данным"
   ]
  },
  {
   "cell_type": "markdown",
   "metadata": {},
   "source": [
    "**Сформулируем нулевую и альтернативную гипотезы:**\n",
    "\n",
    "- Н0 - средний чек заказа в группе `A` и группе `B` одинаковый;\n",
    "- Н1 - средний чек заказа в группе `A` и группе `B` разный."
   ]
  },
  {
   "cell_type": "code",
   "execution_count": 71,
   "metadata": {},
   "outputs": [
    {
     "name": "stdout",
     "output_type": "stream",
     "text": [
      "P-value: 0.874\n",
      "Относительное различие групп: 0.025\n"
     ]
    }
   ],
   "source": [
    "print('P-value:',\n",
    "    '{0:.3f}'.format(\n",
    "        stats.mannwhitneyu(\n",
    "            orders[\n",
    "                np.logical_and(\n",
    "                    orders['group'] == 'A',\n",
    "                    np.logical_not(orders['visitorId'].isin(abnormalUsers)),\n",
    "                )\n",
    "            ]['revenue'],\n",
    "            orders[\n",
    "                np.logical_and(\n",
    "                    orders['group'] == 'B',\n",
    "                    np.logical_not(orders['visitorId'].isin(abnormalUsers)),\n",
    "                )\n",
    "            ]['revenue'],\n",
    "        )[1]\n",
    "    )\n",
    ")\n",
    "\n",
    "print('Относительное различие групп:',\n",
    "    \"{0:.3f}\".format(\n",
    "        orders[\n",
    "            np.logical_and(\n",
    "                orders['group'] == 'B',\n",
    "                np.logical_not(orders['visitorId'].isin(abnormalUsers)),\n",
    "            )\n",
    "        ]['revenue'].mean()\n",
    "        / orders[\n",
    "            np.logical_and(\n",
    "                orders['group'] == 'A',\n",
    "                np.logical_not(orders['visitorId'].isin(abnormalUsers)),\n",
    "            )\n",
    "        ]['revenue'].mean()\n",
    "        - 1\n",
    "    )\n",
    ")"
   ]
  },
  {
   "cell_type": "markdown",
   "metadata": {},
   "source": [
    "Различий между группами по \"очищенным данным\" практически нет."
   ]
  },
  {
   "cell_type": "markdown",
   "metadata": {},
   "source": [
    "### Вывод по результатам A/B - теста"
   ]
  },
  {
   "cell_type": "markdown",
   "metadata": {},
   "source": [
    "**Подведем итоги:**\n",
    "- Выручка в тестовой группе немного опережает контрольную,\n",
    "- Нет статистической значимости различий в среднем чеке и по \"сырым\", и по \"очищенным\" данным,\n",
    "- Есть статистическая значимость различий в среднем количестве заказов на посетителя (аплифт `15,5%`).\n",
    "\n",
    "Таким образом, при неизменном среднем чеке было увеличено количество заказов на пользователя, что приведет к увеличению выручки и прибыли. Считаю целесообразным остановить тест и зафиксировать победу группы `B`."
   ]
  },
  {
   "cell_type": "markdown",
   "metadata": {},
   "source": [
    "**В данной работе была произведена приоритезация гипотез и проанализированы результаты A/B - теста:**\n",
    "\n",
    "- Применены фреймворки `ICE` и `RICE` для приоритезации гипотез и объяснена разница в получившихся результатах,\n",
    "- Произведен анализ A/B-теста и по результатам анализа принято решение зафиксировать победу группы `B`."
   ]
  }
 ],
 "metadata": {
  "ExecuteTimeLog": [
   {
    "duration": 1430,
    "start_time": "2024-08-25T08:07:09.875Z"
   },
   {
    "duration": 70,
    "start_time": "2024-08-25T08:07:11.309Z"
   },
   {
    "duration": 13,
    "start_time": "2024-08-25T08:07:11.380Z"
   },
   {
    "duration": 64,
    "start_time": "2024-08-25T08:10:10.926Z"
   },
   {
    "duration": 13,
    "start_time": "2024-08-25T08:21:16.120Z"
   },
   {
    "duration": 10,
    "start_time": "2024-08-25T08:21:26.928Z"
   },
   {
    "duration": 10,
    "start_time": "2024-08-25T08:21:52.752Z"
   },
   {
    "duration": 15,
    "start_time": "2024-08-25T08:22:01.678Z"
   },
   {
    "duration": 10,
    "start_time": "2024-08-25T08:23:57.736Z"
   },
   {
    "duration": 1189,
    "start_time": "2024-08-25T08:24:34.001Z"
   },
   {
    "duration": 27,
    "start_time": "2024-08-25T08:24:35.192Z"
   },
   {
    "duration": 16,
    "start_time": "2024-08-25T08:24:35.220Z"
   },
   {
    "duration": 18,
    "start_time": "2024-08-25T08:24:35.238Z"
   },
   {
    "duration": 11,
    "start_time": "2024-08-25T08:24:35.258Z"
   },
   {
    "duration": 8,
    "start_time": "2024-08-25T09:06:56.029Z"
   },
   {
    "duration": 5,
    "start_time": "2024-08-25T09:09:03.440Z"
   },
   {
    "duration": 1172,
    "start_time": "2024-08-25T09:19:54.329Z"
   },
   {
    "duration": 31,
    "start_time": "2024-08-25T09:19:55.505Z"
   },
   {
    "duration": 14,
    "start_time": "2024-08-25T09:19:55.538Z"
   },
   {
    "duration": 33,
    "start_time": "2024-08-25T09:19:55.554Z"
   },
   {
    "duration": 41,
    "start_time": "2024-08-25T09:19:55.589Z"
   },
   {
    "duration": 169,
    "start_time": "2024-08-25T09:19:55.632Z"
   },
   {
    "duration": 6,
    "start_time": "2024-08-25T09:19:55.803Z"
   },
   {
    "duration": 47,
    "start_time": "2024-08-25T09:19:55.811Z"
   },
   {
    "duration": 67,
    "start_time": "2024-08-25T09:24:18.983Z"
   },
   {
    "duration": 357,
    "start_time": "2024-08-25T09:24:59.980Z"
   },
   {
    "duration": 1215,
    "start_time": "2024-08-25T09:25:30.507Z"
   },
   {
    "duration": 28,
    "start_time": "2024-08-25T09:25:31.725Z"
   },
   {
    "duration": 11,
    "start_time": "2024-08-25T09:25:31.754Z"
   },
   {
    "duration": 28,
    "start_time": "2024-08-25T09:25:31.767Z"
   },
   {
    "duration": 34,
    "start_time": "2024-08-25T09:25:31.797Z"
   },
   {
    "duration": 60,
    "start_time": "2024-08-25T09:25:31.833Z"
   },
   {
    "duration": 5,
    "start_time": "2024-08-25T09:25:31.894Z"
   },
   {
    "duration": 92,
    "start_time": "2024-08-25T09:25:31.901Z"
   },
   {
    "duration": 390,
    "start_time": "2024-08-25T09:25:31.994Z"
   },
   {
    "duration": 259,
    "start_time": "2024-08-25T09:26:06.502Z"
   },
   {
    "duration": 14,
    "start_time": "2024-08-25T09:26:26.777Z"
   },
   {
    "duration": 19,
    "start_time": "2024-08-25T10:08:40.806Z"
   },
   {
    "duration": 1221,
    "start_time": "2024-08-25T10:08:47.778Z"
   },
   {
    "duration": 26,
    "start_time": "2024-08-25T10:08:49.001Z"
   },
   {
    "duration": 8,
    "start_time": "2024-08-25T10:08:49.029Z"
   },
   {
    "duration": 24,
    "start_time": "2024-08-25T10:08:49.039Z"
   },
   {
    "duration": 12,
    "start_time": "2024-08-25T10:08:49.065Z"
   },
   {
    "duration": 65,
    "start_time": "2024-08-25T10:08:49.079Z"
   },
   {
    "duration": 6,
    "start_time": "2024-08-25T10:08:49.146Z"
   },
   {
    "duration": 40,
    "start_time": "2024-08-25T10:08:49.154Z"
   },
   {
    "duration": 14,
    "start_time": "2024-08-25T10:08:49.196Z"
   },
   {
    "duration": 162,
    "start_time": "2024-08-25T10:08:49.212Z"
   },
   {
    "duration": 572,
    "start_time": "2024-08-25T10:10:16.892Z"
   },
   {
    "duration": 458,
    "start_time": "2024-08-25T10:14:04.822Z"
   },
   {
    "duration": 475,
    "start_time": "2024-08-25T10:14:18.018Z"
   },
   {
    "duration": 521,
    "start_time": "2024-08-25T10:14:38.544Z"
   },
   {
    "duration": 500,
    "start_time": "2024-08-25T10:16:13.344Z"
   },
   {
    "duration": 9,
    "start_time": "2024-08-25T10:20:13.114Z"
   },
   {
    "duration": 5,
    "start_time": "2024-08-25T10:20:17.096Z"
   },
   {
    "duration": 10,
    "start_time": "2024-08-25T10:21:28.448Z"
   },
   {
    "duration": 18,
    "start_time": "2024-08-25T10:27:56.615Z"
   },
   {
    "duration": 516,
    "start_time": "2024-08-25T10:29:15.567Z"
   },
   {
    "duration": 16,
    "start_time": "2024-08-25T10:29:37.997Z"
   },
   {
    "duration": 1402,
    "start_time": "2024-08-25T10:30:55.634Z"
   },
   {
    "duration": 27,
    "start_time": "2024-08-25T10:30:57.039Z"
   },
   {
    "duration": 8,
    "start_time": "2024-08-25T10:30:57.068Z"
   },
   {
    "duration": 14,
    "start_time": "2024-08-25T10:30:57.078Z"
   },
   {
    "duration": 15,
    "start_time": "2024-08-25T10:30:57.095Z"
   },
   {
    "duration": 50,
    "start_time": "2024-08-25T10:30:57.115Z"
   },
   {
    "duration": 4,
    "start_time": "2024-08-25T10:30:57.167Z"
   },
   {
    "duration": 49,
    "start_time": "2024-08-25T10:30:57.173Z"
   },
   {
    "duration": 20,
    "start_time": "2024-08-25T10:30:57.224Z"
   },
   {
    "duration": 633,
    "start_time": "2024-08-25T10:30:57.245Z"
   },
   {
    "duration": 211,
    "start_time": "2024-08-25T10:30:57.879Z"
   },
   {
    "duration": 241,
    "start_time": "2024-08-25T10:31:35.866Z"
   },
   {
    "duration": 229,
    "start_time": "2024-08-25T10:31:54.258Z"
   },
   {
    "duration": 1264,
    "start_time": "2024-08-25T10:42:15.076Z"
   },
   {
    "duration": 28,
    "start_time": "2024-08-25T10:42:16.342Z"
   },
   {
    "duration": 13,
    "start_time": "2024-08-25T10:42:16.371Z"
   },
   {
    "duration": 13,
    "start_time": "2024-08-25T10:42:16.386Z"
   },
   {
    "duration": 17,
    "start_time": "2024-08-25T10:42:16.400Z"
   },
   {
    "duration": 61,
    "start_time": "2024-08-25T10:42:16.419Z"
   },
   {
    "duration": 4,
    "start_time": "2024-08-25T10:42:16.481Z"
   },
   {
    "duration": 62,
    "start_time": "2024-08-25T10:42:16.487Z"
   },
   {
    "duration": 93,
    "start_time": "2024-08-25T10:42:16.550Z"
   },
   {
    "duration": 657,
    "start_time": "2024-08-25T10:42:16.645Z"
   },
   {
    "duration": 223,
    "start_time": "2024-08-25T10:42:17.304Z"
   },
   {
    "duration": 99,
    "start_time": "2024-08-25T10:42:21.501Z"
   },
   {
    "duration": 329,
    "start_time": "2024-08-25T10:42:39.229Z"
   },
   {
    "duration": 327,
    "start_time": "2024-08-25T10:43:14.599Z"
   },
   {
    "duration": 363,
    "start_time": "2024-08-25T10:44:39.687Z"
   },
   {
    "duration": 1206,
    "start_time": "2024-08-25T10:44:48.514Z"
   },
   {
    "duration": 28,
    "start_time": "2024-08-25T10:44:49.723Z"
   },
   {
    "duration": 13,
    "start_time": "2024-08-25T10:44:49.753Z"
   },
   {
    "duration": 13,
    "start_time": "2024-08-25T10:44:49.769Z"
   },
   {
    "duration": 11,
    "start_time": "2024-08-25T10:44:49.784Z"
   },
   {
    "duration": 58,
    "start_time": "2024-08-25T10:44:49.805Z"
   },
   {
    "duration": 7,
    "start_time": "2024-08-25T10:44:49.865Z"
   },
   {
    "duration": 55,
    "start_time": "2024-08-25T10:44:49.874Z"
   },
   {
    "duration": 15,
    "start_time": "2024-08-25T10:44:49.931Z"
   },
   {
    "duration": 679,
    "start_time": "2024-08-25T10:44:49.948Z"
   },
   {
    "duration": 235,
    "start_time": "2024-08-25T10:44:50.629Z"
   },
   {
    "duration": 377,
    "start_time": "2024-08-25T10:44:50.866Z"
   },
   {
    "duration": 14,
    "start_time": "2024-08-25T10:55:10.432Z"
   },
   {
    "duration": 201,
    "start_time": "2024-08-25T10:57:35.998Z"
   },
   {
    "duration": 196,
    "start_time": "2024-08-25T10:59:23.088Z"
   },
   {
    "duration": 191,
    "start_time": "2024-08-25T10:59:27.975Z"
   },
   {
    "duration": 178,
    "start_time": "2024-08-25T10:59:39.131Z"
   },
   {
    "duration": 200,
    "start_time": "2024-08-25T10:59:43.672Z"
   },
   {
    "duration": 306,
    "start_time": "2024-08-25T10:59:50.613Z"
   },
   {
    "duration": 176,
    "start_time": "2024-08-25T10:59:56.935Z"
   },
   {
    "duration": 537,
    "start_time": "2024-08-25T11:04:32.794Z"
   },
   {
    "duration": 1226,
    "start_time": "2024-08-25T11:06:31.894Z"
   },
   {
    "duration": 26,
    "start_time": "2024-08-25T11:06:33.122Z"
   },
   {
    "duration": 14,
    "start_time": "2024-08-25T11:06:33.150Z"
   },
   {
    "duration": 28,
    "start_time": "2024-08-25T11:06:33.166Z"
   },
   {
    "duration": 12,
    "start_time": "2024-08-25T11:06:33.197Z"
   },
   {
    "duration": 49,
    "start_time": "2024-08-25T11:06:33.211Z"
   },
   {
    "duration": 5,
    "start_time": "2024-08-25T11:06:33.262Z"
   },
   {
    "duration": 52,
    "start_time": "2024-08-25T11:06:33.268Z"
   },
   {
    "duration": 14,
    "start_time": "2024-08-25T11:06:33.322Z"
   },
   {
    "duration": 707,
    "start_time": "2024-08-25T11:06:33.338Z"
   },
   {
    "duration": 245,
    "start_time": "2024-08-25T11:06:34.047Z"
   },
   {
    "duration": 341,
    "start_time": "2024-08-25T11:06:34.295Z"
   },
   {
    "duration": 239,
    "start_time": "2024-08-25T11:06:34.638Z"
   },
   {
    "duration": 229,
    "start_time": "2024-08-25T11:06:48.049Z"
   },
   {
    "duration": 208,
    "start_time": "2024-08-25T11:07:03.878Z"
   },
   {
    "duration": 200,
    "start_time": "2024-08-25T11:07:15.392Z"
   },
   {
    "duration": 223,
    "start_time": "2024-08-25T11:11:05.341Z"
   },
   {
    "duration": 1138,
    "start_time": "2024-08-25T11:11:39.455Z"
   },
   {
    "duration": 26,
    "start_time": "2024-08-25T11:11:40.595Z"
   },
   {
    "duration": 13,
    "start_time": "2024-08-25T11:11:40.622Z"
   },
   {
    "duration": 118,
    "start_time": "2024-08-25T11:11:40.636Z"
   },
   {
    "duration": 10,
    "start_time": "2024-08-25T11:11:40.756Z"
   },
   {
    "duration": 63,
    "start_time": "2024-08-25T11:11:40.768Z"
   },
   {
    "duration": 4,
    "start_time": "2024-08-25T11:11:40.833Z"
   },
   {
    "duration": 50,
    "start_time": "2024-08-25T11:11:40.838Z"
   },
   {
    "duration": 14,
    "start_time": "2024-08-25T11:11:40.890Z"
   },
   {
    "duration": 595,
    "start_time": "2024-08-25T11:11:40.906Z"
   },
   {
    "duration": 216,
    "start_time": "2024-08-25T11:11:41.504Z"
   },
   {
    "duration": 316,
    "start_time": "2024-08-25T11:11:41.722Z"
   },
   {
    "duration": 1219,
    "start_time": "2024-08-26T06:59:01.573Z"
   },
   {
    "duration": 84,
    "start_time": "2024-08-26T06:59:02.794Z"
   },
   {
    "duration": 13,
    "start_time": "2024-08-26T06:59:02.879Z"
   },
   {
    "duration": 61,
    "start_time": "2024-08-26T06:59:02.893Z"
   },
   {
    "duration": 10,
    "start_time": "2024-08-26T06:59:02.955Z"
   },
   {
    "duration": 147,
    "start_time": "2024-08-26T06:59:02.966Z"
   },
   {
    "duration": 4,
    "start_time": "2024-08-26T06:59:03.114Z"
   },
   {
    "duration": 44,
    "start_time": "2024-08-26T06:59:03.120Z"
   },
   {
    "duration": 13,
    "start_time": "2024-08-26T06:59:03.165Z"
   },
   {
    "duration": 555,
    "start_time": "2024-08-26T06:59:03.180Z"
   },
   {
    "duration": 201,
    "start_time": "2024-08-26T06:59:03.736Z"
   },
   {
    "duration": 349,
    "start_time": "2024-08-26T06:59:03.938Z"
   },
   {
    "duration": 204,
    "start_time": "2024-08-26T06:59:04.288Z"
   },
   {
    "duration": 270,
    "start_time": "2024-08-26T07:02:25.835Z"
   },
   {
    "duration": 100,
    "start_time": "2024-08-26T07:03:29.085Z"
   },
   {
    "duration": 268,
    "start_time": "2024-08-26T07:03:55.385Z"
   },
   {
    "duration": 307,
    "start_time": "2024-08-26T07:04:51.390Z"
   },
   {
    "duration": 6,
    "start_time": "2024-08-26T07:22:00.870Z"
   },
   {
    "duration": 305,
    "start_time": "2024-08-26T07:22:18.123Z"
   },
   {
    "duration": 365,
    "start_time": "2024-08-26T07:23:37.852Z"
   },
   {
    "duration": 8,
    "start_time": "2024-08-26T07:32:14.240Z"
   },
   {
    "duration": 8,
    "start_time": "2024-08-26T07:32:28.261Z"
   },
   {
    "duration": 951,
    "start_time": "2024-08-26T07:33:39.782Z"
   },
   {
    "duration": 138,
    "start_time": "2024-08-26T07:34:00.126Z"
   },
   {
    "duration": 48,
    "start_time": "2024-08-26T13:59:06.773Z"
   },
   {
    "duration": 1322,
    "start_time": "2024-08-26T13:59:20.207Z"
   },
   {
    "duration": 71,
    "start_time": "2024-08-26T13:59:21.532Z"
   },
   {
    "duration": 17,
    "start_time": "2024-08-26T13:59:21.605Z"
   },
   {
    "duration": 16,
    "start_time": "2024-08-26T13:59:21.623Z"
   },
   {
    "duration": 13,
    "start_time": "2024-08-26T13:59:21.641Z"
   },
   {
    "duration": 228,
    "start_time": "2024-08-26T13:59:21.656Z"
   },
   {
    "duration": 4,
    "start_time": "2024-08-26T13:59:21.886Z"
   },
   {
    "duration": 46,
    "start_time": "2024-08-26T13:59:21.892Z"
   },
   {
    "duration": 18,
    "start_time": "2024-08-26T13:59:21.940Z"
   },
   {
    "duration": 598,
    "start_time": "2024-08-26T13:59:21.960Z"
   },
   {
    "duration": 209,
    "start_time": "2024-08-26T13:59:22.560Z"
   },
   {
    "duration": 342,
    "start_time": "2024-08-26T13:59:22.771Z"
   },
   {
    "duration": 223,
    "start_time": "2024-08-26T13:59:23.116Z"
   },
   {
    "duration": 314,
    "start_time": "2024-08-26T13:59:23.341Z"
   },
   {
    "duration": 125,
    "start_time": "2024-08-26T13:59:23.657Z"
   },
   {
    "duration": 5,
    "start_time": "2024-08-26T13:59:23.784Z"
   },
   {
    "duration": 5,
    "start_time": "2024-08-26T13:59:42.040Z"
   },
   {
    "duration": 96,
    "start_time": "2024-08-26T14:06:49.433Z"
   },
   {
    "duration": 932,
    "start_time": "2024-08-26T14:06:57.771Z"
   },
   {
    "duration": 10,
    "start_time": "2024-08-26T14:07:09.971Z"
   },
   {
    "duration": 126,
    "start_time": "2024-08-26T14:07:36.319Z"
   },
   {
    "duration": 13,
    "start_time": "2024-08-26T14:07:46.140Z"
   },
   {
    "duration": 133,
    "start_time": "2024-08-26T14:08:29.477Z"
   },
   {
    "duration": 5,
    "start_time": "2024-08-26T14:15:18.439Z"
   },
   {
    "duration": 177,
    "start_time": "2024-08-26T14:26:40.492Z"
   },
   {
    "duration": 114,
    "start_time": "2024-08-26T14:28:49.842Z"
   },
   {
    "duration": 143,
    "start_time": "2024-08-26T14:29:47.411Z"
   },
   {
    "duration": 215,
    "start_time": "2024-08-26T14:31:25.029Z"
   },
   {
    "duration": 340,
    "start_time": "2024-08-26T14:32:48.871Z"
   },
   {
    "duration": 366,
    "start_time": "2024-08-26T14:33:32.730Z"
   },
   {
    "duration": 463,
    "start_time": "2024-08-26T14:35:17.150Z"
   },
   {
    "duration": 976,
    "start_time": "2024-08-26T14:35:58.509Z"
   },
   {
    "duration": 26,
    "start_time": "2024-08-26T14:35:59.487Z"
   },
   {
    "duration": 11,
    "start_time": "2024-08-26T14:35:59.515Z"
   },
   {
    "duration": 10,
    "start_time": "2024-08-26T14:35:59.528Z"
   },
   {
    "duration": 10,
    "start_time": "2024-08-26T14:35:59.539Z"
   },
   {
    "duration": 52,
    "start_time": "2024-08-26T14:35:59.550Z"
   },
   {
    "duration": 4,
    "start_time": "2024-08-26T14:35:59.603Z"
   },
   {
    "duration": 34,
    "start_time": "2024-08-26T14:35:59.608Z"
   },
   {
    "duration": 13,
    "start_time": "2024-08-26T14:35:59.644Z"
   },
   {
    "duration": 551,
    "start_time": "2024-08-26T14:35:59.660Z"
   },
   {
    "duration": 208,
    "start_time": "2024-08-26T14:36:00.212Z"
   },
   {
    "duration": 315,
    "start_time": "2024-08-26T14:36:00.422Z"
   },
   {
    "duration": 214,
    "start_time": "2024-08-26T14:36:00.739Z"
   },
   {
    "duration": 302,
    "start_time": "2024-08-26T14:36:00.954Z"
   },
   {
    "duration": 119,
    "start_time": "2024-08-26T14:36:01.257Z"
   },
   {
    "duration": 4,
    "start_time": "2024-08-26T14:36:01.377Z"
   },
   {
    "duration": 135,
    "start_time": "2024-08-26T14:36:01.383Z"
   },
   {
    "duration": 4,
    "start_time": "2024-08-26T14:36:01.519Z"
   },
   {
    "duration": 493,
    "start_time": "2024-08-26T14:36:01.525Z"
   },
   {
    "duration": 468,
    "start_time": "2024-08-26T14:36:33.270Z"
   },
   {
    "duration": 537,
    "start_time": "2024-08-26T14:38:29.841Z"
   },
   {
    "duration": 449,
    "start_time": "2024-08-26T14:38:43.883Z"
   },
   {
    "duration": 468,
    "start_time": "2024-08-26T14:40:25.532Z"
   },
   {
    "duration": 12,
    "start_time": "2024-08-26T14:47:09.373Z"
   },
   {
    "duration": 14,
    "start_time": "2024-08-26T14:53:39.922Z"
   },
   {
    "duration": 111,
    "start_time": "2024-08-26T14:54:03.900Z"
   },
   {
    "duration": 15,
    "start_time": "2024-08-26T14:54:17.758Z"
   },
   {
    "duration": 12,
    "start_time": "2024-08-26T14:54:36.858Z"
   },
   {
    "duration": 69,
    "start_time": "2024-08-26T14:54:58.821Z"
   },
   {
    "duration": 16,
    "start_time": "2024-08-26T14:56:05.011Z"
   },
   {
    "duration": 1032,
    "start_time": "2024-08-26T15:13:12.030Z"
   },
   {
    "duration": 8,
    "start_time": "2024-08-26T15:14:10.005Z"
   },
   {
    "duration": 13,
    "start_time": "2024-08-26T15:16:49.191Z"
   },
   {
    "duration": 35,
    "start_time": "2024-08-26T15:18:19.053Z"
   },
   {
    "duration": 56,
    "start_time": "2024-08-26T15:18:56.314Z"
   },
   {
    "duration": 1105,
    "start_time": "2024-08-26T15:36:30.199Z"
   },
   {
    "duration": 27,
    "start_time": "2024-08-26T15:36:31.306Z"
   },
   {
    "duration": 12,
    "start_time": "2024-08-26T15:36:31.335Z"
   },
   {
    "duration": 31,
    "start_time": "2024-08-26T15:36:31.349Z"
   },
   {
    "duration": 19,
    "start_time": "2024-08-26T15:36:31.384Z"
   },
   {
    "duration": 73,
    "start_time": "2024-08-26T15:36:31.405Z"
   },
   {
    "duration": 7,
    "start_time": "2024-08-26T15:36:31.481Z"
   },
   {
    "duration": 74,
    "start_time": "2024-08-26T15:36:31.490Z"
   },
   {
    "duration": 15,
    "start_time": "2024-08-26T15:36:31.565Z"
   },
   {
    "duration": 581,
    "start_time": "2024-08-26T15:36:31.583Z"
   },
   {
    "duration": 218,
    "start_time": "2024-08-26T15:36:32.166Z"
   },
   {
    "duration": 303,
    "start_time": "2024-08-26T15:36:32.386Z"
   },
   {
    "duration": 221,
    "start_time": "2024-08-26T15:36:32.691Z"
   },
   {
    "duration": 365,
    "start_time": "2024-08-26T15:36:32.914Z"
   },
   {
    "duration": 128,
    "start_time": "2024-08-26T15:36:33.281Z"
   },
   {
    "duration": 3,
    "start_time": "2024-08-26T15:36:33.411Z"
   },
   {
    "duration": 159,
    "start_time": "2024-08-26T15:36:33.416Z"
   },
   {
    "duration": 5,
    "start_time": "2024-08-26T15:36:33.577Z"
   },
   {
    "duration": 503,
    "start_time": "2024-08-26T15:36:33.583Z"
   },
   {
    "duration": 10,
    "start_time": "2024-08-26T15:36:34.088Z"
   },
   {
    "duration": 118,
    "start_time": "2024-08-26T15:36:34.099Z"
   },
   {
    "duration": 1016,
    "start_time": "2024-08-26T15:38:37.586Z"
   },
   {
    "duration": 12,
    "start_time": "2024-08-26T15:39:35.222Z"
   },
   {
    "duration": 12,
    "start_time": "2024-08-26T15:40:01.234Z"
   },
   {
    "duration": 14,
    "start_time": "2024-08-26T15:43:10.077Z"
   },
   {
    "duration": 1011,
    "start_time": "2024-08-26T16:14:35.204Z"
   },
   {
    "duration": 29,
    "start_time": "2024-08-26T16:14:36.217Z"
   },
   {
    "duration": 15,
    "start_time": "2024-08-26T16:14:36.247Z"
   },
   {
    "duration": 122,
    "start_time": "2024-08-26T16:14:36.264Z"
   },
   {
    "duration": 21,
    "start_time": "2024-08-26T16:14:36.388Z"
   },
   {
    "duration": 54,
    "start_time": "2024-08-26T16:14:36.411Z"
   },
   {
    "duration": 4,
    "start_time": "2024-08-26T16:14:36.467Z"
   },
   {
    "duration": 37,
    "start_time": "2024-08-26T16:14:36.473Z"
   },
   {
    "duration": 14,
    "start_time": "2024-08-26T16:14:36.512Z"
   },
   {
    "duration": 574,
    "start_time": "2024-08-26T16:14:36.528Z"
   },
   {
    "duration": 241,
    "start_time": "2024-08-26T16:14:37.104Z"
   },
   {
    "duration": 325,
    "start_time": "2024-08-26T16:14:37.353Z"
   },
   {
    "duration": 245,
    "start_time": "2024-08-26T16:14:37.679Z"
   },
   {
    "duration": 332,
    "start_time": "2024-08-26T16:14:37.927Z"
   },
   {
    "duration": 141,
    "start_time": "2024-08-26T16:14:38.261Z"
   },
   {
    "duration": 6,
    "start_time": "2024-08-26T16:14:38.403Z"
   },
   {
    "duration": 130,
    "start_time": "2024-08-26T16:14:38.411Z"
   },
   {
    "duration": 13,
    "start_time": "2024-08-26T16:14:38.542Z"
   },
   {
    "duration": 536,
    "start_time": "2024-08-26T16:14:38.557Z"
   },
   {
    "duration": 9,
    "start_time": "2024-08-26T16:14:39.095Z"
   },
   {
    "duration": 50,
    "start_time": "2024-08-26T16:14:39.106Z"
   },
   {
    "duration": 17,
    "start_time": "2024-08-26T16:14:39.159Z"
   },
   {
    "duration": 1075,
    "start_time": "2024-08-26T17:00:33.450Z"
   },
   {
    "duration": 28,
    "start_time": "2024-08-26T17:00:34.527Z"
   },
   {
    "duration": 82,
    "start_time": "2024-08-26T17:00:34.556Z"
   },
   {
    "duration": 12,
    "start_time": "2024-08-26T17:00:34.639Z"
   },
   {
    "duration": 10,
    "start_time": "2024-08-26T17:00:34.653Z"
   },
   {
    "duration": 55,
    "start_time": "2024-08-26T17:00:34.664Z"
   },
   {
    "duration": 4,
    "start_time": "2024-08-26T17:00:34.720Z"
   },
   {
    "duration": 74,
    "start_time": "2024-08-26T17:00:34.725Z"
   },
   {
    "duration": 18,
    "start_time": "2024-08-26T17:00:34.801Z"
   },
   {
    "duration": 549,
    "start_time": "2024-08-26T17:00:34.820Z"
   },
   {
    "duration": 197,
    "start_time": "2024-08-26T17:00:35.370Z"
   },
   {
    "duration": 287,
    "start_time": "2024-08-26T17:00:35.568Z"
   },
   {
    "duration": 192,
    "start_time": "2024-08-26T17:00:35.856Z"
   },
   {
    "duration": 306,
    "start_time": "2024-08-26T17:00:36.052Z"
   },
   {
    "duration": 125,
    "start_time": "2024-08-26T17:00:36.359Z"
   },
   {
    "duration": 4,
    "start_time": "2024-08-26T17:00:36.485Z"
   },
   {
    "duration": 130,
    "start_time": "2024-08-26T17:00:36.490Z"
   },
   {
    "duration": 4,
    "start_time": "2024-08-26T17:00:36.622Z"
   },
   {
    "duration": 462,
    "start_time": "2024-08-26T17:00:36.627Z"
   },
   {
    "duration": 9,
    "start_time": "2024-08-26T17:00:37.091Z"
   },
   {
    "duration": 47,
    "start_time": "2024-08-26T17:00:37.102Z"
   },
   {
    "duration": 14,
    "start_time": "2024-08-26T17:00:37.152Z"
   },
   {
    "duration": 136,
    "start_time": "2024-08-26T17:04:35.282Z"
   },
   {
    "duration": 222,
    "start_time": "2024-08-26T17:07:24.581Z"
   },
   {
    "duration": 1029,
    "start_time": "2024-08-26T17:08:06.476Z"
   },
   {
    "duration": 28,
    "start_time": "2024-08-26T17:08:07.507Z"
   },
   {
    "duration": 11,
    "start_time": "2024-08-26T17:08:07.537Z"
   },
   {
    "duration": 10,
    "start_time": "2024-08-26T17:08:07.550Z"
   },
   {
    "duration": 40,
    "start_time": "2024-08-26T17:08:07.562Z"
   },
   {
    "duration": 53,
    "start_time": "2024-08-26T17:08:07.603Z"
   },
   {
    "duration": 3,
    "start_time": "2024-08-26T17:08:07.658Z"
   },
   {
    "duration": 35,
    "start_time": "2024-08-26T17:08:07.663Z"
   },
   {
    "duration": 12,
    "start_time": "2024-08-26T17:08:07.700Z"
   },
   {
    "duration": 585,
    "start_time": "2024-08-26T17:08:07.715Z"
   },
   {
    "duration": 198,
    "start_time": "2024-08-26T17:08:08.302Z"
   },
   {
    "duration": 259,
    "start_time": "2024-08-26T17:08:08.502Z"
   },
   {
    "duration": 198,
    "start_time": "2024-08-26T17:08:08.763Z"
   },
   {
    "duration": 294,
    "start_time": "2024-08-26T17:08:08.963Z"
   },
   {
    "duration": 151,
    "start_time": "2024-08-26T17:08:09.258Z"
   },
   {
    "duration": 5,
    "start_time": "2024-08-26T17:08:09.410Z"
   },
   {
    "duration": 167,
    "start_time": "2024-08-26T17:08:09.416Z"
   },
   {
    "duration": 4,
    "start_time": "2024-08-26T17:08:09.585Z"
   },
   {
    "duration": 456,
    "start_time": "2024-08-26T17:08:09.590Z"
   },
   {
    "duration": 12,
    "start_time": "2024-08-26T17:08:10.048Z"
   },
   {
    "duration": 48,
    "start_time": "2024-08-26T17:08:10.061Z"
   },
   {
    "duration": 13,
    "start_time": "2024-08-26T17:08:10.111Z"
   },
   {
    "duration": 1038,
    "start_time": "2024-08-26T17:11:13.273Z"
   },
   {
    "duration": 28,
    "start_time": "2024-08-26T17:11:14.313Z"
   },
   {
    "duration": 12,
    "start_time": "2024-08-26T17:11:14.343Z"
   },
   {
    "duration": 11,
    "start_time": "2024-08-26T17:11:14.357Z"
   },
   {
    "duration": 15,
    "start_time": "2024-08-26T17:11:14.370Z"
   },
   {
    "duration": 55,
    "start_time": "2024-08-26T17:11:14.387Z"
   },
   {
    "duration": 4,
    "start_time": "2024-08-26T17:11:14.444Z"
   },
   {
    "duration": 39,
    "start_time": "2024-08-26T17:11:14.449Z"
   },
   {
    "duration": 12,
    "start_time": "2024-08-26T17:11:14.490Z"
   },
   {
    "duration": 558,
    "start_time": "2024-08-26T17:11:14.504Z"
   },
   {
    "duration": 200,
    "start_time": "2024-08-26T17:11:15.063Z"
   },
   {
    "duration": 293,
    "start_time": "2024-08-26T17:11:15.265Z"
   },
   {
    "duration": 197,
    "start_time": "2024-08-26T17:11:15.559Z"
   },
   {
    "duration": 295,
    "start_time": "2024-08-26T17:11:15.758Z"
   },
   {
    "duration": 143,
    "start_time": "2024-08-26T17:11:16.055Z"
   },
   {
    "duration": 5,
    "start_time": "2024-08-26T17:11:16.199Z"
   },
   {
    "duration": 177,
    "start_time": "2024-08-26T17:11:16.205Z"
   },
   {
    "duration": 4,
    "start_time": "2024-08-26T17:11:16.383Z"
   },
   {
    "duration": 449,
    "start_time": "2024-08-26T17:11:16.388Z"
   },
   {
    "duration": 17,
    "start_time": "2024-08-26T17:11:16.839Z"
   },
   {
    "duration": 32,
    "start_time": "2024-08-26T17:11:16.858Z"
   },
   {
    "duration": 12,
    "start_time": "2024-08-26T17:11:16.892Z"
   },
   {
    "duration": 1145,
    "start_time": "2024-08-26T17:12:32.443Z"
   },
   {
    "duration": 27,
    "start_time": "2024-08-26T17:12:33.590Z"
   },
   {
    "duration": 11,
    "start_time": "2024-08-26T17:12:33.619Z"
   },
   {
    "duration": 24,
    "start_time": "2024-08-26T17:12:33.632Z"
   },
   {
    "duration": 10,
    "start_time": "2024-08-26T17:12:33.657Z"
   },
   {
    "duration": 63,
    "start_time": "2024-08-26T17:12:33.668Z"
   },
   {
    "duration": 4,
    "start_time": "2024-08-26T17:12:33.732Z"
   },
   {
    "duration": 34,
    "start_time": "2024-08-26T17:12:33.737Z"
   },
   {
    "duration": 13,
    "start_time": "2024-08-26T17:12:33.772Z"
   },
   {
    "duration": 560,
    "start_time": "2024-08-26T17:12:33.787Z"
   },
   {
    "duration": 205,
    "start_time": "2024-08-26T17:12:34.348Z"
   },
   {
    "duration": 301,
    "start_time": "2024-08-26T17:12:34.554Z"
   },
   {
    "duration": 202,
    "start_time": "2024-08-26T17:12:34.856Z"
   },
   {
    "duration": 293,
    "start_time": "2024-08-26T17:12:35.060Z"
   },
   {
    "duration": 146,
    "start_time": "2024-08-26T17:12:35.354Z"
   },
   {
    "duration": 4,
    "start_time": "2024-08-26T17:12:35.502Z"
   },
   {
    "duration": 164,
    "start_time": "2024-08-26T17:12:35.507Z"
   },
   {
    "duration": 4,
    "start_time": "2024-08-26T17:12:35.672Z"
   },
   {
    "duration": 453,
    "start_time": "2024-08-26T17:12:35.677Z"
   },
   {
    "duration": 23,
    "start_time": "2024-08-26T17:12:36.131Z"
   },
   {
    "duration": 45,
    "start_time": "2024-08-26T17:12:36.155Z"
   },
   {
    "duration": 13,
    "start_time": "2024-08-26T17:12:36.202Z"
   },
   {
    "duration": 1451,
    "start_time": "2024-08-27T12:24:16.250Z"
   },
   {
    "duration": 73,
    "start_time": "2024-08-27T12:24:17.703Z"
   },
   {
    "duration": 15,
    "start_time": "2024-08-27T12:24:17.777Z"
   },
   {
    "duration": 45,
    "start_time": "2024-08-27T12:24:17.794Z"
   },
   {
    "duration": 13,
    "start_time": "2024-08-27T12:24:17.841Z"
   },
   {
    "duration": 164,
    "start_time": "2024-08-27T12:24:17.855Z"
   },
   {
    "duration": 6,
    "start_time": "2024-08-27T12:24:18.021Z"
   },
   {
    "duration": 74,
    "start_time": "2024-08-27T12:24:18.029Z"
   },
   {
    "duration": 15,
    "start_time": "2024-08-27T12:24:18.105Z"
   },
   {
    "duration": 1204,
    "start_time": "2024-08-27T12:29:34.744Z"
   },
   {
    "duration": 29,
    "start_time": "2024-08-27T12:29:35.950Z"
   },
   {
    "duration": 23,
    "start_time": "2024-08-27T12:29:35.980Z"
   },
   {
    "duration": 17,
    "start_time": "2024-08-27T12:29:36.004Z"
   },
   {
    "duration": 55,
    "start_time": "2024-08-27T12:29:36.023Z"
   },
   {
    "duration": 64,
    "start_time": "2024-08-27T12:29:36.080Z"
   },
   {
    "duration": 5,
    "start_time": "2024-08-27T12:29:36.146Z"
   },
   {
    "duration": 87,
    "start_time": "2024-08-27T12:29:36.153Z"
   },
   {
    "duration": 36,
    "start_time": "2024-08-27T12:29:36.242Z"
   },
   {
    "duration": 665,
    "start_time": "2024-08-27T12:29:36.280Z"
   },
   {
    "duration": 246,
    "start_time": "2024-08-27T12:29:36.947Z"
   },
   {
    "duration": 312,
    "start_time": "2024-08-27T12:29:37.195Z"
   },
   {
    "duration": 252,
    "start_time": "2024-08-27T12:29:37.509Z"
   },
   {
    "duration": 316,
    "start_time": "2024-08-27T12:29:37.764Z"
   },
   {
    "duration": 179,
    "start_time": "2024-08-27T12:29:38.082Z"
   },
   {
    "duration": 5,
    "start_time": "2024-08-27T12:29:38.263Z"
   },
   {
    "duration": 217,
    "start_time": "2024-08-27T12:29:38.271Z"
   },
   {
    "duration": 4,
    "start_time": "2024-08-27T12:29:38.490Z"
   },
   {
    "duration": 529,
    "start_time": "2024-08-27T12:29:38.496Z"
   },
   {
    "duration": 11,
    "start_time": "2024-08-27T12:29:39.026Z"
   },
   {
    "duration": 50,
    "start_time": "2024-08-27T12:29:39.039Z"
   },
   {
    "duration": 15,
    "start_time": "2024-08-27T12:29:39.091Z"
   },
   {
    "duration": 10,
    "start_time": "2024-08-27T12:33:15.903Z"
   },
   {
    "duration": 113,
    "start_time": "2024-08-27T12:34:48.175Z"
   },
   {
    "duration": 1321,
    "start_time": "2024-08-27T12:35:41.932Z"
   },
   {
    "duration": 10,
    "start_time": "2024-08-27T12:35:46.203Z"
   },
   {
    "duration": 11,
    "start_time": "2024-08-27T12:36:01.044Z"
   },
   {
    "duration": 11,
    "start_time": "2024-08-27T12:36:49.059Z"
   },
   {
    "duration": 8,
    "start_time": "2024-08-27T12:37:43.516Z"
   },
   {
    "duration": 5,
    "start_time": "2024-08-27T12:37:51.400Z"
   },
   {
    "duration": 9,
    "start_time": "2024-08-27T12:38:28.219Z"
   },
   {
    "duration": 9,
    "start_time": "2024-08-27T12:38:59.376Z"
   },
   {
    "duration": 6,
    "start_time": "2024-08-27T12:39:07.187Z"
   },
   {
    "duration": 937,
    "start_time": "2024-08-27T12:39:22.481Z"
   },
   {
    "duration": 1062,
    "start_time": "2024-08-27T12:39:49.852Z"
   },
   {
    "duration": 5,
    "start_time": "2024-08-27T12:39:54.505Z"
   },
   {
    "duration": 5,
    "start_time": "2024-08-27T12:40:00.493Z"
   },
   {
    "duration": 7,
    "start_time": "2024-08-27T12:40:12.613Z"
   },
   {
    "duration": 65,
    "start_time": "2024-08-27T12:40:22.238Z"
   },
   {
    "duration": 8,
    "start_time": "2024-08-27T12:40:42.480Z"
   },
   {
    "duration": 8,
    "start_time": "2024-08-27T12:40:56.346Z"
   },
   {
    "duration": 8,
    "start_time": "2024-08-27T12:41:12.247Z"
   },
   {
    "duration": 8,
    "start_time": "2024-08-27T12:42:47.496Z"
   },
   {
    "duration": 1213,
    "start_time": "2024-08-27T13:20:58.546Z"
   },
   {
    "duration": 29,
    "start_time": "2024-08-27T13:20:59.761Z"
   },
   {
    "duration": 13,
    "start_time": "2024-08-27T13:20:59.791Z"
   },
   {
    "duration": 12,
    "start_time": "2024-08-27T13:20:59.805Z"
   },
   {
    "duration": 14,
    "start_time": "2024-08-27T13:20:59.819Z"
   },
   {
    "duration": 53,
    "start_time": "2024-08-27T13:20:59.834Z"
   },
   {
    "duration": 5,
    "start_time": "2024-08-27T13:20:59.888Z"
   },
   {
    "duration": 42,
    "start_time": "2024-08-27T13:20:59.896Z"
   },
   {
    "duration": 10,
    "start_time": "2024-08-27T13:20:59.940Z"
   },
   {
    "duration": 9,
    "start_time": "2024-08-27T13:20:59.952Z"
   },
   {
    "duration": 9,
    "start_time": "2024-08-27T13:20:59.963Z"
   },
   {
    "duration": 23,
    "start_time": "2024-08-27T13:20:59.974Z"
   },
   {
    "duration": 809,
    "start_time": "2024-08-27T13:20:59.999Z"
   },
   {
    "duration": 236,
    "start_time": "2024-08-27T13:21:00.810Z"
   },
   {
    "duration": 342,
    "start_time": "2024-08-27T13:21:01.048Z"
   },
   {
    "duration": 234,
    "start_time": "2024-08-27T13:21:01.391Z"
   },
   {
    "duration": 347,
    "start_time": "2024-08-27T13:21:01.627Z"
   },
   {
    "duration": 184,
    "start_time": "2024-08-27T13:21:01.976Z"
   },
   {
    "duration": 4,
    "start_time": "2024-08-27T13:21:02.162Z"
   },
   {
    "duration": 193,
    "start_time": "2024-08-27T13:21:02.167Z"
   },
   {
    "duration": 5,
    "start_time": "2024-08-27T13:21:02.362Z"
   },
   {
    "duration": 531,
    "start_time": "2024-08-27T13:21:02.370Z"
   },
   {
    "duration": 13,
    "start_time": "2024-08-27T13:21:02.903Z"
   },
   {
    "duration": 64,
    "start_time": "2024-08-27T13:21:02.918Z"
   },
   {
    "duration": 15,
    "start_time": "2024-08-27T13:21:02.984Z"
   }
  ],
  "kernelspec": {
   "display_name": "Python 3 (ipykernel)",
   "language": "python",
   "name": "python3"
  },
  "language_info": {
   "codemirror_mode": {
    "name": "ipython",
    "version": 3
   },
   "file_extension": ".py",
   "mimetype": "text/x-python",
   "name": "python",
   "nbconvert_exporter": "python",
   "pygments_lexer": "ipython3",
   "version": "3.11.7"
  },
  "toc": {
   "base_numbering": 1,
   "nav_menu": {},
   "number_sections": true,
   "sideBar": true,
   "skip_h1_title": true,
   "title_cell": "Table of Contents",
   "title_sidebar": "Contents",
   "toc_cell": false,
   "toc_position": {},
   "toc_section_display": true,
   "toc_window_display": false
  }
 },
 "nbformat": 4,
 "nbformat_minor": 4
}
